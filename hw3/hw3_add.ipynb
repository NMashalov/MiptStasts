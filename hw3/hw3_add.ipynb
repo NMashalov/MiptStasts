{
 "cells": [
  {
   "cell_type": "markdown",
   "metadata": {},
   "source": [
    "## Задача 4.\n",
    "\n",
    "Пусть $X_1,...,X_n$ выборка из из распределения $\\mathcal{N}(\\theta, \\sigma^2)$, где оба параметра неизветны. \n",
    "Постройте асимптотический доверительный интервал для нормированного сдвига, то есть величины $\\theta / \\sigma$."
   ]
  },
  {
   "attachments": {},
   "cell_type": "markdown",
   "metadata": {},
   "source": [
    "ПО ЦПТ имеем АНО для $\\theta$: $\\sqrt{n} \\cdot (\\overline{X} - \\theta )\\xrightarrow{d} \\mathrm{N}(0,\\sigma^2) $\n",
    "\n",
    "$\\sqrt{n} \\cdot \\overline{X} \\xrightarrow{d} \\mathrm{N}(\\theta \\cdot \\sqrt{n},\\sigma^2) $\n",
    "\n",
    "Используем состоятельную оценку для дисперсии $S = \\sqrt{\\overline{X^2}-\\overline{X}^2} \\xrightarrow{P} \\sigma $ \n",
    "\n",
    "Используем теорему о наследованиях для непрерывных оценках:\n",
    "\n",
    "$\\frac{1}{S} \\xrightarrow{P} \\frac{1}{\\sigma}$\n",
    "\n",
    "Используем лемму Слуцкого, $\\sigma = const$:\n",
    "\n",
    "$\\sqrt{n} \\cdot \\frac{\\overline{X}}{S} \\xrightarrow{P} \\mathrm{N}(\\sqrt{n} \\frac{\\theta}{\\sigma},1)$\n",
    "\n",
    "$\\sqrt{n} \\cdot (\\frac{\\overline{X}}{S} - \\frac{\\theta}{\\sigma}) \\xrightarrow{P} \\mathrm{N}(0,1)$\n",
    "\n",
    "Доверительные интервалы:\n",
    "\n",
    "$\\frac{\\theta}{\\sigma} \\in (\\frac{\\overline{X}}{S} - \\frac{Z_{\\frac{1+\\alpha}{2}}}{\\sqrt{n}},\\frac{\\overline{X}}{S} + \\frac{Z_{\\frac{1+\\alpha}{2}}}{\\sqrt{n}})$\n"
   ]
  }
 ],
 "metadata": {
  "kernelspec": {
   "display_name": "Python 3",
   "language": "python",
   "name": "python3"
  },
  "language_info": {
   "codemirror_mode": {
    "name": "ipython",
    "version": 3
   },
   "file_extension": ".py",
   "mimetype": "text/x-python",
   "name": "python",
   "nbconvert_exporter": "python",
   "pygments_lexer": "ipython3",
   "version": "3.10.8"
  },
  "orig_nbformat": 4
 },
 "nbformat": 4,
 "nbformat_minor": 2
}
