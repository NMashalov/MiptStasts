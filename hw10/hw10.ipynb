{
 "cells": [
  {
   "attachments": {},
   "cell_type": "markdown",
   "metadata": {},
   "source": [
    "# <a href=\"https://miptstats.github.io/courses/ad_mipt.html\">Phystech@DataScience</a>\n",
    "## Домашнее задание 10\n",
    "\n",
    "**Правила, <font color=\"red\">прочитайте внимательно</font>:**\n",
    "\n",
    "* Выполненную работу нужно отправить телеграм-боту `@miptstats_pds_bot`. Для начала работы с ботом каждый раз отправляйте `/start`. **Работы, присланные иным способом, не принимаются.**\n",
    "* Дедлайн см. в боте. После дедлайна работы не принимаются кроме случаев наличия уважительной причины.\n",
    "* Прислать нужно ноутбук в формате `ipynb`.\n",
    "* Выполнять задание необходимо полностью самостоятельно. **При обнаружении списывания все участники списывания будут сдавать устный зачет.**\n",
    "* Решения, размещенные на каких-либо интернет-ресурсах, не принимаются. Кроме того, публикация решения в открытом доступе может быть приравнена к предоставлении возможности списать.\n",
    "* Для выполнения задания используйте этот ноутбук в качестве основы, ничего не удаляя из него. Можно добавлять необходимое количество ячеек.\n",
    "* Комментарии к решению пишите в markdown-ячейках.\n",
    "* Выполнение задания (ход решения, выводы и пр.) должно быть осуществлено на русском языке.\n",
    "* Если код будет не понятен проверяющему, оценка может быть снижена.\n",
    "* Никакой код из данного задания при проверке запускаться не будет. *Если код студента не выполнен, недописан и т.д., то он не оценивается.*\n",
    "* **Код из рассказанных на занятиях ноутбуков можно использовать без ограничений.**\n",
    "\n",
    "**Правила оформления теоретических задач:**\n",
    "\n",
    "* Решения необходимо прислать одним из следующих способов:\n",
    "  * фотографией в правильной ориентации, где все четко видно, а почерк разборчив,\n",
    "    * отправив ее как файл боту вместе с ноутбуком *или*\n",
    "    * вставив ее в ноутбук посредством `Edit -> Insert Image` (<font color=\"red\">фото, вставленные ссылкой, не принимаются</font>);\n",
    "  * в виде $\\LaTeX$ в markdown-ячейках.\n",
    "* Решения не проверяются, если какое-то требование не выполнено. Особенно внимательно все проверьте в случае выбора второго пункта (вставки фото в ноутбук). <font color=\"red\"><b>Неправильно вставленные фотографии могут не передаться при отправке.</b></font> Для проверки попробуйте переместить `ipynb` в другую папку и открыть его там.\n",
    "* В решениях поясняйте, чем вы пользуетесь, хотя бы кратко. Например, если пользуетесь независимостью, то достаточно подписи вида \"*X и Y незав.*\"\n",
    "* Решение, в котором есть только ответ, и отсутствуют вычисления, оценивается в 0 баллов.\n",
    "\n",
    "**Баллы за задание:**\n",
    "\n",
    "<b><font color=\"blue\">Легкая часть</font></b> (достаточно на \"хор\"):\n",
    "* Задача 1 &mdash;  15 баллов\n",
    "* Задача 2 &mdash;  40 баллов\n",
    "\n",
    "<b><font color=\"orange\">Cложная часть</font></b> (необходимо на \"отл\"):\n",
    "* Задача 2 &mdash;  50 баллов\n",
    "* Задача 4 &mdash;  40 баллов\n",
    "\n",
    "\n",
    "\n",
    "\n",
    "\n",
    "-----"
   ]
  },
  {
   "cell_type": "code",
   "execution_count": 22,
   "metadata": {},
   "outputs": [],
   "source": [
    "import numpy as np\n",
    "import pandas as pd\n",
    "import matplotlib.pyplot as plt\n",
    "import seaborn as sns\n",
    "\n",
    "sns.set(style='whitegrid', font_scale=1.3, palette='Set2')"
   ]
  },
  {
   "cell_type": "markdown",
   "metadata": {},
   "source": [
    "При решении задания используйте `sklearn`. Пропишите сюда необходимые импорты"
   ]
  },
  {
   "cell_type": "code",
   "execution_count": 23,
   "metadata": {},
   "outputs": [],
   "source": [
    "from sklearn.model_selection import train_test_split\n",
    "from sklearn.preprocessing import (StandardScaler, LabelEncoder)\n"
   ]
  },
  {
   "attachments": {},
   "cell_type": "markdown",
   "metadata": {},
   "source": [
    "---\n",
    "## Задача 1\n",
    "\n",
    "Перед обучением линейной регрессии вы могли совершать некоторые преобразования над признаками. Какие преобразования стоит совершить перед обучением решающего дерева?\n",
    "\n",
    "В частности, ответьте на вопрос, имеет ли смысл примененять следующие преобразования:\n",
    "* монотонные функции от одного признака;\n",
    "* немонотонные функции от одного признака;\n",
    "* линейные функции от нескольких признаков;\n",
    "* нелинейные функции от нескольких признаков;\n",
    "* стандартизация признаков;\n",
    "* преобразования категориальных признаков.\n",
    "\n",
    "Например, вместо/дополнительно с признаком $x_j$ рассматривать признак $f(x_j)$, для указанных выше типов функций."
   ]
  },
  {
   "attachments": {},
   "cell_type": "markdown",
   "metadata": {},
   "source": [
    "- В монотонных функциях необходимости нет, binary decision tree принимает решение о сплите, исходя из \n",
    "\n",
    "\n",
    "- нелинейные функции "
   ]
  },
  {
   "attachments": {},
   "cell_type": "markdown",
   "metadata": {},
   "source": [
    "\n",
    "## Задача 2\n",
    "\n",
    "### 1. Загрузка и предобработка данных.\n"
   ]
  },
  {
   "attachments": {},
   "cell_type": "markdown",
   "metadata": {},
   "source": [
    "\n",
    "\n",
    "Скачайте [данные](https://www.kaggle.com/datasets/sayansh001/crystal-structure-classification) по классификации кристаллических решеток. Целевой переменной в этой задаче является `Lowest distortion`. С сырыми данными и более подробным описанием задачи можно ознакомиться также [здесь](https://www.kaggle.com/datasets/sayansh001/crystal-structure-classification).\n"
   ]
  },
  {
   "cell_type": "code",
   "execution_count": 24,
   "metadata": {},
   "outputs": [],
   "source": [
    "data = pd.read_csv('Crystal_structure.csv')\n"
   ]
  },
  {
   "attachments": {},
   "cell_type": "markdown",
   "metadata": {},
   "source": [
    "Сделаем предобработку данных."
   ]
  },
  {
   "cell_type": "code",
   "execution_count": 25,
   "metadata": {},
   "outputs": [
    {
     "name": "stderr",
     "output_type": "stream",
     "text": [
      "\n",
      "A value is trying to be set on a copy of a slice from a DataFrame\n",
      "\n",
      "See the caveats in the documentation: https://pandas.pydata.org/pandas-docs/stable/user_guide/indexing.html#returning-a-view-versus-a-copy\n"
     ]
    }
   ],
   "source": [
    "# уберем признаки, которые нам не нужны (подробнее можете почиать во вкладке 'Code' на странице датасета)\n",
    "data = data.drop([\"In literature\", \"Compound\", \"τ\"], axis=1)\n",
    "# убираем объекты, для которых неизвестен таргет\n",
    "data = data.drop(data[data[\"Lowest distortion\"] == \"-\"].index).reset_index(drop=True)\n",
    "# закодируем целевую переменную числами\n",
    "data['Lowest distortion'] = LabelEncoder().fit_transform(data['Lowest distortion'])\n",
    "# закодируем категориальные признаки числами\n",
    "data['A'] = LabelEncoder().fit_transform(data['A'])\n",
    "data['B'] = LabelEncoder().fit_transform(data['B'])\n",
    "# обработаем пропуски\n",
    "for i in data.columns:\n",
    "    column = data[i]\n",
    "    for k in range(len(column)):\n",
    "        if column[k] == '-':\n",
    "            column[k] = 0\n",
    "    data[i] = column"
   ]
  },
  {
   "attachments": {},
   "cell_type": "markdown",
   "metadata": {},
   "source": [
    "### 2. Обучение модели\n"
   ]
  },
  {
   "attachments": {},
   "cell_type": "markdown",
   "metadata": {},
   "source": [
    "Создайте массив признаков и массив таргета."
   ]
  },
  {
   "cell_type": "code",
   "execution_count": 26,
   "metadata": {},
   "outputs": [],
   "source": [
    "X = data.drop(['Lowest distortion'],axis=1)\n",
    "y = data['Lowest distortion']\n"
   ]
  },
  {
   "attachments": {},
   "cell_type": "markdown",
   "metadata": {},
   "source": [
    "Обучите модель решающего дерева."
   ]
  },
  {
   "cell_type": "code",
   "execution_count": 27,
   "metadata": {},
   "outputs": [
    {
     "data": {
      "text/html": [
       "<style>#sk-container-id-2 {color: black;background-color: white;}#sk-container-id-2 pre{padding: 0;}#sk-container-id-2 div.sk-toggleable {background-color: white;}#sk-container-id-2 label.sk-toggleable__label {cursor: pointer;display: block;width: 100%;margin-bottom: 0;padding: 0.3em;box-sizing: border-box;text-align: center;}#sk-container-id-2 label.sk-toggleable__label-arrow:before {content: \"▸\";float: left;margin-right: 0.25em;color: #696969;}#sk-container-id-2 label.sk-toggleable__label-arrow:hover:before {color: black;}#sk-container-id-2 div.sk-estimator:hover label.sk-toggleable__label-arrow:before {color: black;}#sk-container-id-2 div.sk-toggleable__content {max-height: 0;max-width: 0;overflow: hidden;text-align: left;background-color: #f0f8ff;}#sk-container-id-2 div.sk-toggleable__content pre {margin: 0.2em;color: black;border-radius: 0.25em;background-color: #f0f8ff;}#sk-container-id-2 input.sk-toggleable__control:checked~div.sk-toggleable__content {max-height: 200px;max-width: 100%;overflow: auto;}#sk-container-id-2 input.sk-toggleable__control:checked~label.sk-toggleable__label-arrow:before {content: \"▾\";}#sk-container-id-2 div.sk-estimator input.sk-toggleable__control:checked~label.sk-toggleable__label {background-color: #d4ebff;}#sk-container-id-2 div.sk-label input.sk-toggleable__control:checked~label.sk-toggleable__label {background-color: #d4ebff;}#sk-container-id-2 input.sk-hidden--visually {border: 0;clip: rect(1px 1px 1px 1px);clip: rect(1px, 1px, 1px, 1px);height: 1px;margin: -1px;overflow: hidden;padding: 0;position: absolute;width: 1px;}#sk-container-id-2 div.sk-estimator {font-family: monospace;background-color: #f0f8ff;border: 1px dotted black;border-radius: 0.25em;box-sizing: border-box;margin-bottom: 0.5em;}#sk-container-id-2 div.sk-estimator:hover {background-color: #d4ebff;}#sk-container-id-2 div.sk-parallel-item::after {content: \"\";width: 100%;border-bottom: 1px solid gray;flex-grow: 1;}#sk-container-id-2 div.sk-label:hover label.sk-toggleable__label {background-color: #d4ebff;}#sk-container-id-2 div.sk-serial::before {content: \"\";position: absolute;border-left: 1px solid gray;box-sizing: border-box;top: 0;bottom: 0;left: 50%;z-index: 0;}#sk-container-id-2 div.sk-serial {display: flex;flex-direction: column;align-items: center;background-color: white;padding-right: 0.2em;padding-left: 0.2em;position: relative;}#sk-container-id-2 div.sk-item {position: relative;z-index: 1;}#sk-container-id-2 div.sk-parallel {display: flex;align-items: stretch;justify-content: center;background-color: white;position: relative;}#sk-container-id-2 div.sk-item::before, #sk-container-id-2 div.sk-parallel-item::before {content: \"\";position: absolute;border-left: 1px solid gray;box-sizing: border-box;top: 0;bottom: 0;left: 50%;z-index: -1;}#sk-container-id-2 div.sk-parallel-item {display: flex;flex-direction: column;z-index: 1;position: relative;background-color: white;}#sk-container-id-2 div.sk-parallel-item:first-child::after {align-self: flex-end;width: 50%;}#sk-container-id-2 div.sk-parallel-item:last-child::after {align-self: flex-start;width: 50%;}#sk-container-id-2 div.sk-parallel-item:only-child::after {width: 0;}#sk-container-id-2 div.sk-dashed-wrapped {border: 1px dashed gray;margin: 0 0.4em 0.5em 0.4em;box-sizing: border-box;padding-bottom: 0.4em;background-color: white;}#sk-container-id-2 div.sk-label label {font-family: monospace;font-weight: bold;display: inline-block;line-height: 1.2em;}#sk-container-id-2 div.sk-label-container {text-align: center;}#sk-container-id-2 div.sk-container {/* jupyter's `normalize.less` sets `[hidden] { display: none; }` but bootstrap.min.css set `[hidden] { display: none !important; }` so we also need the `!important` here to be able to override the default hidden behavior on the sphinx rendered scikit-learn.org. See: https://github.com/scikit-learn/scikit-learn/issues/21755 */display: inline-block !important;position: relative;}#sk-container-id-2 div.sk-text-repr-fallback {display: none;}</style><div id=\"sk-container-id-2\" class=\"sk-top-container\"><div class=\"sk-text-repr-fallback\"><pre>DecisionTreeClassifier(max_depth=5)</pre><b>In a Jupyter environment, please rerun this cell to show the HTML representation or trust the notebook. <br />On GitHub, the HTML representation is unable to render, please try loading this page with nbviewer.org.</b></div><div class=\"sk-container\" hidden><div class=\"sk-item\"><div class=\"sk-estimator sk-toggleable\"><input class=\"sk-toggleable__control sk-hidden--visually\" id=\"sk-estimator-id-2\" type=\"checkbox\" checked><label for=\"sk-estimator-id-2\" class=\"sk-toggleable__label sk-toggleable__label-arrow\">DecisionTreeClassifier</label><div class=\"sk-toggleable__content\"><pre>DecisionTreeClassifier(max_depth=5)</pre></div></div></div></div></div>"
      ],
      "text/plain": [
       "DecisionTreeClassifier(max_depth=5)"
      ]
     },
     "execution_count": 27,
     "metadata": {},
     "output_type": "execute_result"
    }
   ],
   "source": [
    "from sklearn.tree import DecisionTreeClassifier\n",
    "from sklearn.metrics import accuracy_score\n",
    "\n",
    "X_train, X_test, y_train, y_test = train_test_split(X, y, test_size=0.25, random_state=42)\n",
    "\n",
    "clf = DecisionTreeClassifier(max_depth=5)\n",
    "\n",
    "clf.fit(X_train, y_train)"
   ]
  },
  {
   "attachments": {},
   "cell_type": "markdown",
   "metadata": {},
   "source": [
    "Сделайте предсказание для тестовой выборки."
   ]
  },
  {
   "cell_type": "code",
   "execution_count": 28,
   "metadata": {},
   "outputs": [],
   "source": [
    "y_pred = clf.predict(X_test)"
   ]
  },
  {
   "attachments": {},
   "cell_type": "markdown",
   "metadata": {},
   "source": [
    "Создайте массив, показывающий успех или не успех модели (1 если модель угадала класс, 0 если не угадала)."
   ]
  },
  {
   "cell_type": "code",
   "execution_count": 29,
   "metadata": {},
   "outputs": [],
   "source": [
    "results = y_pred == y_test"
   ]
  },
  {
   "attachments": {},
   "cell_type": "markdown",
   "metadata": {},
   "source": [
    "Вы получили выборку из распределения $Bern(\\theta)$. Постройте доверительный интервал для $\\theta$."
   ]
  },
  {
   "cell_type": "code",
   "execution_count": 30,
   "metadata": {},
   "outputs": [
    {
     "name": "stdout",
     "output_type": "stream",
     "text": [
      "Среднее: 0.7005900682335101, доверительный интервал: (0.6931, 0.7082)\n"
     ]
    }
   ],
   "source": [
    "# бустрэп\n",
    "theta = np.random.choice(results, (len(results),10000), replace=True).mean(axis=1)\n",
    "print(f'Среднее: {theta.mean()}, доверительный интервал: ({np.percentile(theta,5)}, {np.percentile(theta,95)})')"
   ]
  },
  {
   "attachments": {},
   "cell_type": "markdown",
   "metadata": {},
   "source": [
    "Повторите все шаги для случайного леса. Сравните полученные интервалы."
   ]
  },
  {
   "cell_type": "code",
   "execution_count": 31,
   "metadata": {},
   "outputs": [
    {
     "name": "stdout",
     "output_type": "stream",
     "text": [
      "Среднее: 0.7824515542077333, доверительный интервал: (0.7758, 0.78931)\n"
     ]
    }
   ],
   "source": [
    "from sklearn.ensemble import RandomForestClassifier\n",
    "clf = RandomForestClassifier(random_state=0)\n",
    "\n",
    "clf.fit(X_train, y_train)\n",
    "\n",
    "y_pred = clf.predict(X_test)\n",
    "\n",
    "results = y_pred == y_test\n",
    "\n",
    "theta = np.random.choice(results, (len(results),10000), replace=True).mean(axis=1)\n",
    "print(f'Среднее: {theta.mean()}, доверительный интервал: ({np.percentile(theta,5)}, {np.percentile(theta,95)})')"
   ]
  },
  {
   "attachments": {},
   "cell_type": "markdown",
   "metadata": {},
   "source": [
    "**Выводы:** \n",
    "random forest имеет статзначимый прирост в метрике accuracy по сравнению с decision tree"
   ]
  },
  {
   "attachments": {},
   "cell_type": "markdown",
   "metadata": {},
   "source": [
    "## Задача 3\n",
    "\n",
    "Рассмотрим данные из <a href='https://miptstats.github.io/courses/ad_mipt/hw8.html' target=\"_blank\">предыдущего домашнего задания</a>. Скачайте данные и разделите их на три части &mdash; обучающую, валидационную и тестовую в соотношении 3:1:1."
   ]
  },
  {
   "attachments": {},
   "cell_type": "markdown",
   "metadata": {},
   "source": [
    "Выполните необходимые преобразования признаков.\n",
    "\n",
    "*Замечание.* Если в валидационной и/или тестовой частях есть \"большие\" выбросы, их стоит убрать. Наша модель не должна пытаться их предсказать, но в то же время выбросы вносят существенный вклад в значение метрики.   "
   ]
  },
  {
   "cell_type": "code",
   "execution_count": 32,
   "metadata": {},
   "outputs": [],
   "source": [
    "from sklearn.datasets import load_diabetes\n",
    "\n",
    "\n",
    "data = load_diabetes()"
   ]
  },
  {
   "cell_type": "code",
   "execution_count": 33,
   "metadata": {},
   "outputs": [],
   "source": [
    "X, y = [pd.DataFrame(data[feat]) for feat in ['data','target']]"
   ]
  },
  {
   "cell_type": "code",
   "execution_count": 34,
   "metadata": {},
   "outputs": [
    {
     "data": {
      "text/plain": [
       "<AxesSubplot: >"
      ]
     },
     "execution_count": 34,
     "metadata": {},
     "output_type": "execute_result"
    },
    {
     "data": {
      "image/png": "[encoded data removed]",
      "text/plain": [
       "<Figure size 640x480 with 1 Axes>"
      ]
     },
     "metadata": {},
     "output_type": "display_data"
    }
   ],
   "source": [
    "sns.boxplot(X)"
   ]
  },
  {
   "cell_type": "code",
   "execution_count": 35,
   "metadata": {},
   "outputs": [],
   "source": [
    "import seaborn as sns \n",
    "\n",
    "# исключили выбросы\n",
    "Q1 = X.quantile(0.25)\n",
    "Q3 = X.quantile(0.75)\n",
    "IQR = Q3 - Q1\n",
    "mask = ~((X < (Q1 - 1.5 * IQR)) |(X > (Q3 + 1.5 * IQR))).any(axis=1)\n",
    "X,y = X[mask], y[mask]"
   ]
  },
  {
   "cell_type": "code",
   "execution_count": 36,
   "metadata": {},
   "outputs": [],
   "source": [
    "X_train, X_test, y_train, y_test = train_test_split(X, y, test_size=0.8, random_state=42)"
   ]
  },
  {
   "attachments": {},
   "cell_type": "markdown",
   "metadata": {},
   "source": [
    "Обучите решающее дерево глубины 3 и визуализируйте его. \n",
    "\n",
    "*Рекомендуется сделать скриншот визуализации и прислать его в бот вместе с ноутбуком.*"
   ]
  },
  {
   "cell_type": "code",
   "execution_count": 37,
   "metadata": {},
   "outputs": [
    {
     "data": {
      "text/plain": [
       "4294.623601570343"
      ]
     },
     "execution_count": 37,
     "metadata": {},
     "output_type": "execute_result"
    },
    {
     "data": {
      "image/png": "[encoded data removed]",
      "text/plain": [
       "<Figure size 1500x1000 with 1 Axes>"
      ]
     },
     "metadata": {},
     "output_type": "display_data"
    }
   ],
   "source": [
    "from sklearn.metrics import mean_squared_error\n",
    "from sklearn.tree import DecisionTreeRegressor, plot_tree\n",
    "\n",
    "clf = DecisionTreeRegressor(max_depth=3)\n",
    "\n",
    "clf.fit(X_train, y_train)\n",
    "\n",
    "y_test_predict = clf.predict(X_test)\n",
    "\n",
    "plt.figure(figsize=(15, 10))\n",
    "plot_tree(clf)\n",
    "plt.plot()\n",
    "mean_squared_error(y_test_predict, y_test)"
   ]
  },
  {
   "cell_type": "markdown",
   "metadata": {},
   "source": [
    "Подберите оптимальное значение максимальной глубины дерева. Для этого обучите решающие деревья с выставленным значением соответствующего гиперпараметра и посчитайте ошибку предсказаний каждого из них на валидационной выборке. Постройте соответствующий график."
   ]
  },
  {
   "cell_type": "code",
   "execution_count": 38,
   "metadata": {},
   "outputs": [
    {
     "name": "stderr",
     "output_type": "stream",
     "text": [
      "\u001b[32m[I 2023-05-13 16:17:37,076]\u001b[0m A new study created in memory with name: no-name-9a104d51-9931-41b4-945c-d7562a82fae3\u001b[0m\n",
      "\u001b[32m[I 2023-05-13 16:17:37,096]\u001b[0m Trial 0 finished with value: -6405.09463143858 and parameters: {'tree_max_depth': 5}. Best is trial 0 with value: -6405.09463143858.\u001b[0m\n",
      "\u001b[32m[I 2023-05-13 16:17:37,110]\u001b[0m Trial 1 finished with value: -4622.25125922399 and parameters: {'tree_max_depth': 2}. Best is trial 1 with value: -4622.25125922399.\u001b[0m\n",
      "\u001b[32m[I 2023-05-13 16:17:37,126]\u001b[0m Trial 2 finished with value: -6254.496795185838 and parameters: {'tree_max_depth': 6}. Best is trial 1 with value: -4622.25125922399.\u001b[0m\n",
      "\u001b[32m[I 2023-05-13 16:17:37,151]\u001b[0m Trial 3 finished with value: -4622.25125922399 and parameters: {'tree_max_depth': 2}. Best is trial 1 with value: -4622.25125922399.\u001b[0m\n",
      "\u001b[32m[I 2023-05-13 16:17:37,171]\u001b[0m Trial 4 finished with value: -6568.793981481482 and parameters: {'tree_max_depth': 11}. Best is trial 1 with value: -4622.25125922399.\u001b[0m\n",
      "\u001b[32m[I 2023-05-13 16:17:37,188]\u001b[0m Trial 5 finished with value: -6734.467675896932 and parameters: {'tree_max_depth': 7}. Best is trial 1 with value: -4622.25125922399.\u001b[0m\n",
      "\u001b[32m[I 2023-05-13 16:17:37,206]\u001b[0m Trial 6 finished with value: -5308.698852726629 and parameters: {'tree_max_depth': 4}. Best is trial 1 with value: -4622.25125922399.\u001b[0m\n",
      "\u001b[32m[I 2023-05-13 16:17:37,219]\u001b[0m Trial 7 finished with value: -6656.1243386243395 and parameters: {'tree_max_depth': 10}. Best is trial 1 with value: -4622.25125922399.\u001b[0m\n",
      "\u001b[32m[I 2023-05-13 16:17:37,235]\u001b[0m Trial 8 finished with value: -6742.826719576719 and parameters: {'tree_max_depth': 12}. Best is trial 1 with value: -4622.25125922399.\u001b[0m\n",
      "\u001b[32m[I 2023-05-13 16:17:37,250]\u001b[0m Trial 9 finished with value: -6568.793981481482 and parameters: {'tree_max_depth': 11}. Best is trial 1 with value: -4622.25125922399.\u001b[0m\n",
      "\u001b[32m[I 2023-05-13 16:17:37,268]\u001b[0m Trial 10 finished with value: -6742.826719576719 and parameters: {'tree_max_depth': 16}. Best is trial 1 with value: -4622.25125922399.\u001b[0m\n",
      "\u001b[32m[I 2023-05-13 16:17:37,285]\u001b[0m Trial 11 finished with value: -4622.25125922399 and parameters: {'tree_max_depth': 2}. Best is trial 1 with value: -4622.25125922399.\u001b[0m\n",
      "\u001b[32m[I 2023-05-13 16:17:37,308]\u001b[0m Trial 12 finished with value: -4622.25125922399 and parameters: {'tree_max_depth': 2}. Best is trial 1 with value: -4622.25125922399.\u001b[0m\n",
      "\u001b[32m[I 2023-05-13 16:17:37,328]\u001b[0m Trial 13 finished with value: -4955.604688205737 and parameters: {'tree_max_depth': 3}. Best is trial 1 with value: -4622.25125922399.\u001b[0m\n",
      "\u001b[32m[I 2023-05-13 16:17:37,345]\u001b[0m Trial 14 finished with value: -6653.29591563786 and parameters: {'tree_max_depth': 8}. Best is trial 1 with value: -4622.25125922399.\u001b[0m\n",
      "\u001b[32m[I 2023-05-13 16:17:37,365]\u001b[0m Trial 15 finished with value: -5308.698852726629 and parameters: {'tree_max_depth': 4}. Best is trial 1 with value: -4622.25125922399.\u001b[0m\n"
     ]
    },
    {
     "name": "stdout",
     "output_type": "stream",
     "text": [
      "Best Score:  -4622.25125922399\n",
      "Best Params: \n",
      "  tree_max_depth: 2\n"
     ]
    },
    {
     "data": {
      "application/vnd.plotly.v1+json": {
       "config": {
        "plotlyServerURL": "https://plot.ly"
       },
       "data": [
        {
         "marker": {
          "color": [
           0,
           1,
           2,
           3,
           4,
           5,
           6,
           7,
           8,
           9,
           10,
           11,
           12,
           13,
           14,
           15
          ],
          "colorbar": {
           "title": {
            "text": "Trial"
           },
           "x": 1,
           "xpad": 40
          },
          "colorscale": [
           [
            0,
            "rgb(247,251,255)"
           ],
           [
            0.125,
            "rgb(222,235,247)"
           ],
           [
            0.25,
            "rgb(198,219,239)"
           ],
           [
            0.375,
            "rgb(158,202,225)"
           ],
           [
            0.5,
            "rgb(107,174,214)"
           ],
           [
            0.625,
            "rgb(66,146,198)"
           ],
           [
            0.75,
            "rgb(33,113,181)"
           ],
           [
            0.875,
            "rgb(8,81,156)"
           ],
           [
            1,
            "rgb(8,48,107)"
           ]
          ],
          "line": {
           "color": "Grey",
           "width": 0.5
          }
         },
         "mode": "markers",
         "showlegend": false,
         "type": "scatter",
         "x": [
          5,
          2,
          6,
          2,
          11,
          7,
          4,
          10,
          12,
          11,
          16,
          2,
          2,
          3,
          8,
          4
         ],
         "y": [
          -6405.09463143858,
          -4622.25125922399,
          -6254.496795185838,
          -4622.25125922399,
          -6568.793981481482,
          -6734.467675896932,
          -5308.698852726629,
          -6656.1243386243395,
          -6742.826719576719,
          -6568.793981481482,
          -6742.826719576719,
          -4622.25125922399,
          -4622.25125922399,
          -4955.604688205737,
          -6653.29591563786,
          -5308.698852726629
         ]
        }
       ],
       "layout": {
        "template": {
         "data": {
          "bar": [
           {
            "error_x": {
             "color": "#2a3f5f"
            },
            "error_y": {
             "color": "#2a3f5f"
            },
            "marker": {
             "line": {
              "color": "#E5ECF6",
              "width": 0.5
             },
             "pattern": {
              "fillmode": "overlay",
              "size": 10,
              "solidity": 0.2
             }
            },
            "type": "bar"
           }
          ],
          "barpolar": [
           {
            "marker": {
             "line": {
              "color": "#E5ECF6",
              "width": 0.5
             },
             "pattern": {
              "fillmode": "overlay",
              "size": 10,
              "solidity": 0.2
             }
            },
            "type": "barpolar"
           }
          ],
          "carpet": [
           {
            "aaxis": {
             "endlinecolor": "#2a3f5f",
             "gridcolor": "white",
             "linecolor": "white",
             "minorgridcolor": "white",
             "startlinecolor": "#2a3f5f"
            },
            "baxis": {
             "endlinecolor": "#2a3f5f",
             "gridcolor": "white",
             "linecolor": "white",
             "minorgridcolor": "white",
             "startlinecolor": "#2a3f5f"
            },
            "type": "carpet"
           }
          ],
          "choropleth": [
           {
            "colorbar": {
             "outlinewidth": 0,
             "ticks": ""
            },
            "type": "choropleth"
           }
          ],
          "contour": [
           {
            "colorbar": {
             "outlinewidth": 0,
             "ticks": ""
            },
            "colorscale": [
             [
              0,
              "#0d0887"
             ],
             [
              0.1111111111111111,
              "#46039f"
             ],
             [
              0.2222222222222222,
              "#7201a8"
             ],
             [
              0.3333333333333333,
              "#9c179e"
             ],
             [
              0.4444444444444444,
              "#bd3786"
             ],
             [
              0.5555555555555556,
              "#d8576b"
             ],
             [
              0.6666666666666666,
              "#ed7953"
             ],
             [
              0.7777777777777778,
              "#fb9f3a"
             ],
             [
              0.8888888888888888,
              "#fdca26"
             ],
             [
              1,
              "#f0f921"
             ]
            ],
            "type": "contour"
           }
          ],
          "contourcarpet": [
           {
            "colorbar": {
             "outlinewidth": 0,
             "ticks": ""
            },
            "type": "contourcarpet"
           }
          ],
          "heatmap": [
           {
            "colorbar": {
             "outlinewidth": 0,
             "ticks": ""
            },
            "colorscale": [
             [
              0,
              "#0d0887"
             ],
             [
              0.1111111111111111,
              "#46039f"
             ],
             [
              0.2222222222222222,
              "#7201a8"
             ],
             [
              0.3333333333333333,
              "#9c179e"
             ],
             [
              0.4444444444444444,
              "#bd3786"
             ],
             [
              0.5555555555555556,
              "#d8576b"
             ],
             [
              0.6666666666666666,
              "#ed7953"
             ],
             [
              0.7777777777777778,
              "#fb9f3a"
             ],
             [
              0.8888888888888888,
              "#fdca26"
             ],
             [
              1,
              "#f0f921"
             ]
            ],
            "type": "heatmap"
           }
          ],
          "heatmapgl": [
           {
            "colorbar": {
             "outlinewidth": 0,
             "ticks": ""
            },
            "colorscale": [
             [
              0,
              "#0d0887"
             ],
             [
              0.1111111111111111,
              "#46039f"
             ],
             [
              0.2222222222222222,
              "#7201a8"
             ],
             [
              0.3333333333333333,
              "#9c179e"
             ],
             [
              0.4444444444444444,
              "#bd3786"
             ],
             [
              0.5555555555555556,
              "#d8576b"
             ],
             [
              0.6666666666666666,
              "#ed7953"
             ],
             [
              0.7777777777777778,
              "#fb9f3a"
             ],
             [
              0.8888888888888888,
              "#fdca26"
             ],
             [
              1,
              "#f0f921"
             ]
            ],
            "type": "heatmapgl"
           }
          ],
          "histogram": [
           {
            "marker": {
             "pattern": {
              "fillmode": "overlay",
              "size": 10,
              "solidity": 0.2
             }
            },
            "type": "histogram"
           }
          ],
          "histogram2d": [
           {
            "colorbar": {
             "outlinewidth": 0,
             "ticks": ""
            },
            "colorscale": [
             [
              0,
              "#0d0887"
             ],
             [
              0.1111111111111111,
              "#46039f"
             ],
             [
              0.2222222222222222,
              "#7201a8"
             ],
             [
              0.3333333333333333,
              "#9c179e"
             ],
             [
              0.4444444444444444,
              "#bd3786"
             ],
             [
              0.5555555555555556,
              "#d8576b"
             ],
             [
              0.6666666666666666,
              "#ed7953"
             ],
             [
              0.7777777777777778,
              "#fb9f3a"
             ],
             [
              0.8888888888888888,
              "#fdca26"
             ],
             [
              1,
              "#f0f921"
             ]
            ],
            "type": "histogram2d"
           }
          ],
          "histogram2dcontour": [
           {
            "colorbar": {
             "outlinewidth": 0,
             "ticks": ""
            },
            "colorscale": [
             [
              0,
              "#0d0887"
             ],
             [
              0.1111111111111111,
              "#46039f"
             ],
             [
              0.2222222222222222,
              "#7201a8"
             ],
             [
              0.3333333333333333,
              "#9c179e"
             ],
             [
              0.4444444444444444,
              "#bd3786"
             ],
             [
              0.5555555555555556,
              "#d8576b"
             ],
             [
              0.6666666666666666,
              "#ed7953"
             ],
             [
              0.7777777777777778,
              "#fb9f3a"
             ],
             [
              0.8888888888888888,
              "#fdca26"
             ],
             [
              1,
              "#f0f921"
             ]
            ],
            "type": "histogram2dcontour"
           }
          ],
          "mesh3d": [
           {
            "colorbar": {
             "outlinewidth": 0,
             "ticks": ""
            },
            "type": "mesh3d"
           }
          ],
          "parcoords": [
           {
            "line": {
             "colorbar": {
              "outlinewidth": 0,
              "ticks": ""
             }
            },
            "type": "parcoords"
           }
          ],
          "pie": [
           {
            "automargin": true,
            "type": "pie"
           }
          ],
          "scatter": [
           {
            "fillpattern": {
             "fillmode": "overlay",
             "size": 10,
             "solidity": 0.2
            },
            "type": "scatter"
           }
          ],
          "scatter3d": [
           {
            "line": {
             "colorbar": {
              "outlinewidth": 0,
              "ticks": ""
             }
            },
            "marker": {
             "colorbar": {
              "outlinewidth": 0,
              "ticks": ""
             }
            },
            "type": "scatter3d"
           }
          ],
          "scattercarpet": [
           {
            "marker": {
             "colorbar": {
              "outlinewidth": 0,
              "ticks": ""
             }
            },
            "type": "scattercarpet"
           }
          ],
          "scattergeo": [
           {
            "marker": {
             "colorbar": {
              "outlinewidth": 0,
              "ticks": ""
             }
            },
            "type": "scattergeo"
           }
          ],
          "scattergl": [
           {
            "marker": {
             "colorbar": {
              "outlinewidth": 0,
              "ticks": ""
             }
            },
            "type": "scattergl"
           }
          ],
          "scattermapbox": [
           {
            "marker": {
             "colorbar": {
              "outlinewidth": 0,
              "ticks": ""
             }
            },
            "type": "scattermapbox"
           }
          ],
          "scatterpolar": [
           {
            "marker": {
             "colorbar": {
              "outlinewidth": 0,
              "ticks": ""
             }
            },
            "type": "scatterpolar"
           }
          ],
          "scatterpolargl": [
           {
            "marker": {
             "colorbar": {
              "outlinewidth": 0,
              "ticks": ""
             }
            },
            "type": "scatterpolargl"
           }
          ],
          "scatterternary": [
           {
            "marker": {
             "colorbar": {
              "outlinewidth": 0,
              "ticks": ""
             }
            },
            "type": "scatterternary"
           }
          ],
          "surface": [
           {
            "colorbar": {
             "outlinewidth": 0,
             "ticks": ""
            },
            "colorscale": [
             [
              0,
              "#0d0887"
             ],
             [
              0.1111111111111111,
              "#46039f"
             ],
             [
              0.2222222222222222,
              "#7201a8"
             ],
             [
              0.3333333333333333,
              "#9c179e"
             ],
             [
              0.4444444444444444,
              "#bd3786"
             ],
             [
              0.5555555555555556,
              "#d8576b"
             ],
             [
              0.6666666666666666,
              "#ed7953"
             ],
             [
              0.7777777777777778,
              "#fb9f3a"
             ],
             [
              0.8888888888888888,
              "#fdca26"
             ],
             [
              1,
              "#f0f921"
             ]
            ],
            "type": "surface"
           }
          ],
          "table": [
           {
            "cells": {
             "fill": {
              "color": "#EBF0F8"
             },
             "line": {
              "color": "white"
             }
            },
            "header": {
             "fill": {
              "color": "#C8D4E3"
             },
             "line": {
              "color": "white"
             }
            },
            "type": "table"
           }
          ]
         },
         "layout": {
          "annotationdefaults": {
           "arrowcolor": "#2a3f5f",
           "arrowhead": 0,
           "arrowwidth": 1
          },
          "autotypenumbers": "strict",
          "coloraxis": {
           "colorbar": {
            "outlinewidth": 0,
            "ticks": ""
           }
          },
          "colorscale": {
           "diverging": [
            [
             0,
             "#8e0152"
            ],
            [
             0.1,
             "#c51b7d"
            ],
            [
             0.2,
             "#de77ae"
            ],
            [
             0.3,
             "#f1b6da"
            ],
            [
             0.4,
             "#fde0ef"
            ],
            [
             0.5,
             "#f7f7f7"
            ],
            [
             0.6,
             "#e6f5d0"
            ],
            [
             0.7,
             "#b8e186"
            ],
            [
             0.8,
             "#7fbc41"
            ],
            [
             0.9,
             "#4d9221"
            ],
            [
             1,
             "#276419"
            ]
           ],
           "sequential": [
            [
             0,
             "#0d0887"
            ],
            [
             0.1111111111111111,
             "#46039f"
            ],
            [
             0.2222222222222222,
             "#7201a8"
            ],
            [
             0.3333333333333333,
             "#9c179e"
            ],
            [
             0.4444444444444444,
             "#bd3786"
            ],
            [
             0.5555555555555556,
             "#d8576b"
            ],
            [
             0.6666666666666666,
             "#ed7953"
            ],
            [
             0.7777777777777778,
             "#fb9f3a"
            ],
            [
             0.8888888888888888,
             "#fdca26"
            ],
            [
             1,
             "#f0f921"
            ]
           ],
           "sequentialminus": [
            [
             0,
             "#0d0887"
            ],
            [
             0.1111111111111111,
             "#46039f"
            ],
            [
             0.2222222222222222,
             "#7201a8"
            ],
            [
             0.3333333333333333,
             "#9c179e"
            ],
            [
             0.4444444444444444,
             "#bd3786"
            ],
            [
             0.5555555555555556,
             "#d8576b"
            ],
            [
             0.6666666666666666,
             "#ed7953"
            ],
            [
             0.7777777777777778,
             "#fb9f3a"
            ],
            [
             0.8888888888888888,
             "#fdca26"
            ],
            [
             1,
             "#f0f921"
            ]
           ]
          },
          "colorway": [
           "#636efa",
           "#EF553B",
           "#00cc96",
           "#ab63fa",
           "#FFA15A",
           "#19d3f3",
           "#FF6692",
           "#B6E880",
           "#FF97FF",
           "#FECB52"
          ],
          "font": {
           "color": "#2a3f5f"
          },
          "geo": {
           "bgcolor": "white",
           "lakecolor": "white",
           "landcolor": "#E5ECF6",
           "showlakes": true,
           "showland": true,
           "subunitcolor": "white"
          },
          "hoverlabel": {
           "align": "left"
          },
          "hovermode": "closest",
          "mapbox": {
           "style": "light"
          },
          "paper_bgcolor": "white",
          "plot_bgcolor": "#E5ECF6",
          "polar": {
           "angularaxis": {
            "gridcolor": "white",
            "linecolor": "white",
            "ticks": ""
           },
           "bgcolor": "#E5ECF6",
           "radialaxis": {
            "gridcolor": "white",
            "linecolor": "white",
            "ticks": ""
           }
          },
          "scene": {
           "xaxis": {
            "backgroundcolor": "#E5ECF6",
            "gridcolor": "white",
            "gridwidth": 2,
            "linecolor": "white",
            "showbackground": true,
            "ticks": "",
            "zerolinecolor": "white"
           },
           "yaxis": {
            "backgroundcolor": "#E5ECF6",
            "gridcolor": "white",
            "gridwidth": 2,
            "linecolor": "white",
            "showbackground": true,
            "ticks": "",
            "zerolinecolor": "white"
           },
           "zaxis": {
            "backgroundcolor": "#E5ECF6",
            "gridcolor": "white",
            "gridwidth": 2,
            "linecolor": "white",
            "showbackground": true,
            "ticks": "",
            "zerolinecolor": "white"
           }
          },
          "shapedefaults": {
           "line": {
            "color": "#2a3f5f"
           }
          },
          "ternary": {
           "aaxis": {
            "gridcolor": "white",
            "linecolor": "white",
            "ticks": ""
           },
           "baxis": {
            "gridcolor": "white",
            "linecolor": "white",
            "ticks": ""
           },
           "bgcolor": "#E5ECF6",
           "caxis": {
            "gridcolor": "white",
            "linecolor": "white",
            "ticks": ""
           }
          },
          "title": {
           "x": 0.05
          },
          "xaxis": {
           "automargin": true,
           "gridcolor": "white",
           "linecolor": "white",
           "ticks": "",
           "title": {
            "standoff": 15
           },
           "zerolinecolor": "white",
           "zerolinewidth": 2
          },
          "yaxis": {
           "automargin": true,
           "gridcolor": "white",
           "linecolor": "white",
           "ticks": "",
           "title": {
            "standoff": 15
           },
           "zerolinecolor": "white",
           "zerolinewidth": 2
          }
         }
        },
        "title": {
         "text": "Slice Plot"
        },
        "xaxis": {
         "title": {
          "text": "tree_max_depth"
         }
        },
        "yaxis": {
         "title": {
          "text": "Objective Value"
         }
        }
       }
      }
     },
     "metadata": {},
     "output_type": "display_data"
    }
   ],
   "source": [
    "import optuna\n",
    "from sklearn.ensemble import RandomForestClassifier\n",
    "from sklearn.model_selection import cross_val_score\n",
    "\n",
    "\n",
    "def objective(trial):\n",
    "    max_depth = trial.suggest_int(\"tree_max_depth\", 2, 16)\n",
    "    #splitter = trial.suggest_categorical(\"splitter\",['best','random'])\n",
    "   \n",
    "    dtr_model = DecisionTreeRegressor(\n",
    "        max_depth = max_depth,\n",
    "        #splitter = splitter,\n",
    "        random_state = 42)\n",
    "    score = cross_val_score(dtr_model, X_train, y_train, scoring='neg_mean_squared_error', cv=3).mean()\n",
    "    return score\n",
    "\n",
    "\n",
    "study = optuna.create_study(direction = \"maximize\")\n",
    "study.optimize(objective, n_trials =16 )\n",
    "trial = study.best_trial\n",
    "print(\"Best Score: \", trial.value)\n",
    "print(\"Best Params: \")\n",
    "for key, value in trial.params.items():\n",
    "    print(\"  {}: {}\".format(key, value))\n",
    "optuna.visualization.plot_slice(study, ['tree_max_depth'])"
   ]
  },
  {
   "attachments": {},
   "cell_type": "markdown",
   "metadata": {},
   "source": [
    "Аналогичным образом подберите минимальное число объектов в листе, зафиксировав при этом подобранное значение максимальной глубины."
   ]
  },
  {
   "cell_type": "code",
   "execution_count": 39,
   "metadata": {},
   "outputs": [
    {
     "name": "stderr",
     "output_type": "stream",
     "text": [
      "\u001b[32m[I 2023-05-13 16:17:37,427]\u001b[0m A new study created in memory with name: no-name-3e0280d5-a648-4f1d-8a36-a3976f82c0e9\u001b[0m\n",
      "\u001b[32m[I 2023-05-13 16:17:37,445]\u001b[0m Trial 0 finished with value: -4549.210297531321 and parameters: {'max_depth': 2, 'min_samples_leaf': 22}. Best is trial 0 with value: -4549.210297531321.\u001b[0m\n",
      "\u001b[32m[I 2023-05-13 16:17:37,461]\u001b[0m Trial 1 finished with value: -4573.261348918718 and parameters: {'max_depth': 2, 'min_samples_leaf': 3}. Best is trial 0 with value: -4549.210297531321.\u001b[0m\n",
      "\u001b[32m[I 2023-05-13 16:17:37,479]\u001b[0m Trial 2 finished with value: -4607.6749215317495 and parameters: {'max_depth': 3, 'min_samples_leaf': 5}. Best is trial 0 with value: -4549.210297531321.\u001b[0m\n",
      "\u001b[32m[I 2023-05-13 16:17:37,499]\u001b[0m Trial 3 finished with value: -4573.261348918718 and parameters: {'max_depth': 2, 'min_samples_leaf': 4}. Best is trial 0 with value: -4549.210297531321.\u001b[0m\n",
      "\u001b[32m[I 2023-05-13 16:17:37,515]\u001b[0m Trial 4 finished with value: -4549.210297531321 and parameters: {'max_depth': 2, 'min_samples_leaf': 26}. Best is trial 0 with value: -4549.210297531321.\u001b[0m\n",
      "\u001b[32m[I 2023-05-13 16:17:37,536]\u001b[0m Trial 5 finished with value: -4705.06494139535 and parameters: {'max_depth': 4, 'min_samples_leaf': 6}. Best is trial 0 with value: -4549.210297531321.\u001b[0m\n",
      "\u001b[32m[I 2023-05-13 16:17:37,556]\u001b[0m Trial 6 finished with value: -4860.39605015489 and parameters: {'max_depth': 2, 'min_samples_leaf': 11}. Best is trial 0 with value: -4549.210297531321.\u001b[0m\n",
      "\u001b[32m[I 2023-05-13 16:17:37,574]\u001b[0m Trial 7 finished with value: -5009.022302841342 and parameters: {'max_depth': 4, 'min_samples_leaf': 5}. Best is trial 0 with value: -4549.210297531321.\u001b[0m\n",
      "\u001b[32m[I 2023-05-13 16:17:37,593]\u001b[0m Trial 8 finished with value: -4573.261348918718 and parameters: {'max_depth': 2, 'min_samples_leaf': 3}. Best is trial 0 with value: -4549.210297531321.\u001b[0m\n",
      "\u001b[32m[I 2023-05-13 16:17:37,614]\u001b[0m Trial 9 finished with value: -4860.39605015489 and parameters: {'max_depth': 4, 'min_samples_leaf': 12}. Best is trial 0 with value: -4549.210297531321.\u001b[0m\n",
      "\u001b[32m[I 2023-05-13 16:17:37,636]\u001b[0m Trial 10 finished with value: -4549.210297531321 and parameters: {'max_depth': 3, 'min_samples_leaf': 25}. Best is trial 0 with value: -4549.210297531321.\u001b[0m\n",
      "\u001b[32m[I 2023-05-13 16:17:37,668]\u001b[0m Trial 11 finished with value: -4549.210297531321 and parameters: {'max_depth': 3, 'min_samples_leaf': 26}. Best is trial 0 with value: -4549.210297531321.\u001b[0m\n",
      "\u001b[32m[I 2023-05-13 16:17:37,697]\u001b[0m Trial 12 finished with value: -4549.210297531321 and parameters: {'max_depth': 2, 'min_samples_leaf': 21}. Best is trial 0 with value: -4549.210297531321.\u001b[0m\n",
      "\u001b[32m[I 2023-05-13 16:17:37,728]\u001b[0m Trial 13 finished with value: -4369.052470786083 and parameters: {'max_depth': 2, 'min_samples_leaf': 20}. Best is trial 13 with value: -4369.052470786083.\u001b[0m\n",
      "\u001b[32m[I 2023-05-13 16:17:37,760]\u001b[0m Trial 14 finished with value: -4239.771430380463 and parameters: {'max_depth': 3, 'min_samples_leaf': 19}. Best is trial 14 with value: -4239.771430380463.\u001b[0m\n",
      "\u001b[32m[I 2023-05-13 16:17:37,796]\u001b[0m Trial 15 finished with value: -4281.756361738874 and parameters: {'max_depth': 3, 'min_samples_leaf': 16}. Best is trial 14 with value: -4239.771430380463.\u001b[0m\n",
      "\u001b[32m[I 2023-05-13 16:17:37,857]\u001b[0m Trial 16 finished with value: -4281.756361738874 and parameters: {'max_depth': 3, 'min_samples_leaf': 16}. Best is trial 14 with value: -4239.771430380463.\u001b[0m\n",
      "\u001b[32m[I 2023-05-13 16:17:37,890]\u001b[0m Trial 17 finished with value: -4281.756361738874 and parameters: {'max_depth': 3, 'min_samples_leaf': 16}. Best is trial 14 with value: -4239.771430380463.\u001b[0m\n",
      "\u001b[32m[I 2023-05-13 16:17:37,917]\u001b[0m Trial 18 finished with value: -5905.560390922209 and parameters: {'max_depth': 3, 'min_samples_leaf': 30}. Best is trial 14 with value: -4239.771430380463.\u001b[0m\n",
      "\u001b[32m[I 2023-05-13 16:17:37,947]\u001b[0m Trial 19 finished with value: -4860.39605015489 and parameters: {'max_depth': 4, 'min_samples_leaf': 12}. Best is trial 14 with value: -4239.771430380463.\u001b[0m\n",
      "\u001b[32m[I 2023-05-13 16:17:37,972]\u001b[0m Trial 20 finished with value: -4463.011073816305 and parameters: {'max_depth': 3, 'min_samples_leaf': 18}. Best is trial 14 with value: -4239.771430380463.\u001b[0m\n",
      "\u001b[32m[I 2023-05-13 16:17:37,995]\u001b[0m Trial 21 finished with value: -4613.711127271427 and parameters: {'max_depth': 3, 'min_samples_leaf': 15}. Best is trial 14 with value: -4239.771430380463.\u001b[0m\n",
      "\u001b[32m[I 2023-05-13 16:17:38,026]\u001b[0m Trial 22 finished with value: -4658.231157505743 and parameters: {'max_depth': 3, 'min_samples_leaf': 14}. Best is trial 14 with value: -4239.771430380463.\u001b[0m\n",
      "\u001b[32m[I 2023-05-13 16:17:38,058]\u001b[0m Trial 23 finished with value: -4486.234597555074 and parameters: {'max_depth': 3, 'min_samples_leaf': 8}. Best is trial 14 with value: -4239.771430380463.\u001b[0m\n",
      "\u001b[32m[I 2023-05-13 16:17:38,089]\u001b[0m Trial 24 finished with value: -4463.011073816305 and parameters: {'max_depth': 3, 'min_samples_leaf': 18}. Best is trial 14 with value: -4239.771430380463.\u001b[0m\n",
      "\u001b[32m[I 2023-05-13 16:17:38,122]\u001b[0m Trial 25 finished with value: -4549.210297531321 and parameters: {'max_depth': 4, 'min_samples_leaf': 23}. Best is trial 14 with value: -4239.771430380463.\u001b[0m\n",
      "\u001b[32m[I 2023-05-13 16:17:38,169]\u001b[0m Trial 26 finished with value: -4239.771430380463 and parameters: {'max_depth': 3, 'min_samples_leaf': 19}. Best is trial 14 with value: -4239.771430380463.\u001b[0m\n",
      "\u001b[32m[I 2023-05-13 16:17:38,217]\u001b[0m Trial 27 finished with value: -4369.052470786083 and parameters: {'max_depth': 3, 'min_samples_leaf': 20}. Best is trial 14 with value: -4239.771430380463.\u001b[0m\n",
      "\u001b[32m[I 2023-05-13 16:17:38,264]\u001b[0m Trial 28 finished with value: -4463.011073816305 and parameters: {'max_depth': 3, 'min_samples_leaf': 18}. Best is trial 14 with value: -4239.771430380463.\u001b[0m\n",
      "\u001b[32m[I 2023-05-13 16:17:38,305]\u001b[0m Trial 29 finished with value: -4549.210297531321 and parameters: {'max_depth': 4, 'min_samples_leaf': 23}. Best is trial 14 with value: -4239.771430380463.\u001b[0m\n",
      "\u001b[32m[I 2023-05-13 16:17:38,344]\u001b[0m Trial 30 finished with value: -5006.495549918552 and parameters: {'max_depth': 3, 'min_samples_leaf': 10}. Best is trial 14 with value: -4239.771430380463.\u001b[0m\n",
      "\u001b[32m[I 2023-05-13 16:17:38,380]\u001b[0m Trial 31 finished with value: -4193.19923982848 and parameters: {'max_depth': 3, 'min_samples_leaf': 17}. Best is trial 31 with value: -4193.19923982848.\u001b[0m\n",
      "\u001b[32m[I 2023-05-13 16:17:38,419]\u001b[0m Trial 32 finished with value: -4658.231157505743 and parameters: {'max_depth': 3, 'min_samples_leaf': 14}. Best is trial 31 with value: -4193.19923982848.\u001b[0m\n",
      "\u001b[32m[I 2023-05-13 16:17:38,445]\u001b[0m Trial 33 finished with value: -4463.011073816305 and parameters: {'max_depth': 3, 'min_samples_leaf': 18}. Best is trial 31 with value: -4193.19923982848.\u001b[0m\n",
      "\u001b[32m[I 2023-05-13 16:17:38,473]\u001b[0m Trial 34 finished with value: -4369.052470786083 and parameters: {'max_depth': 3, 'min_samples_leaf': 20}. Best is trial 31 with value: -4193.19923982848.\u001b[0m\n",
      "\u001b[32m[I 2023-05-13 16:17:38,505]\u001b[0m Trial 35 finished with value: -4281.756361738874 and parameters: {'max_depth': 3, 'min_samples_leaf': 16}. Best is trial 31 with value: -4193.19923982848.\u001b[0m\n",
      "\u001b[32m[I 2023-05-13 16:17:38,536]\u001b[0m Trial 36 finished with value: -4549.210297531321 and parameters: {'max_depth': 3, 'min_samples_leaf': 22}. Best is trial 31 with value: -4193.19923982848.\u001b[0m\n",
      "\u001b[32m[I 2023-05-13 16:17:38,565]\u001b[0m Trial 37 finished with value: -4658.231157505743 and parameters: {'max_depth': 2, 'min_samples_leaf': 14}. Best is trial 31 with value: -4193.19923982848.\u001b[0m\n",
      "\u001b[32m[I 2023-05-13 16:17:38,587]\u001b[0m Trial 38 finished with value: -4193.19923982848 and parameters: {'max_depth': 3, 'min_samples_leaf': 17}. Best is trial 31 with value: -4193.19923982848.\u001b[0m\n",
      "\u001b[32m[I 2023-05-13 16:17:38,626]\u001b[0m Trial 39 finished with value: -4549.210297531321 and parameters: {'max_depth': 4, 'min_samples_leaf': 24}. Best is trial 31 with value: -4193.19923982848.\u001b[0m\n",
      "\u001b[32m[I 2023-05-13 16:17:38,650]\u001b[0m Trial 40 finished with value: -4760.378674525239 and parameters: {'max_depth': 2, 'min_samples_leaf': 27}. Best is trial 31 with value: -4193.19923982848.\u001b[0m\n",
      "\u001b[32m[I 2023-05-13 16:17:38,683]\u001b[0m Trial 41 finished with value: -4239.771430380463 and parameters: {'max_depth': 3, 'min_samples_leaf': 19}. Best is trial 31 with value: -4193.19923982848.\u001b[0m\n",
      "\u001b[32m[I 2023-05-13 16:17:38,708]\u001b[0m Trial 42 finished with value: -4239.771430380463 and parameters: {'max_depth': 3, 'min_samples_leaf': 19}. Best is trial 31 with value: -4193.19923982848.\u001b[0m\n",
      "\u001b[32m[I 2023-05-13 16:17:38,736]\u001b[0m Trial 43 finished with value: -4549.210297531321 and parameters: {'max_depth': 3, 'min_samples_leaf': 21}. Best is trial 31 with value: -4193.19923982848.\u001b[0m\n",
      "\u001b[32m[I 2023-05-13 16:17:38,768]\u001b[0m Trial 44 finished with value: -4193.19923982848 and parameters: {'max_depth': 3, 'min_samples_leaf': 17}. Best is trial 31 with value: -4193.19923982848.\u001b[0m\n",
      "\u001b[32m[I 2023-05-13 16:17:38,792]\u001b[0m Trial 45 finished with value: -4193.19923982848 and parameters: {'max_depth': 3, 'min_samples_leaf': 17}. Best is trial 31 with value: -4193.19923982848.\u001b[0m\n",
      "\u001b[32m[I 2023-05-13 16:17:38,822]\u001b[0m Trial 46 finished with value: -4860.39605015489 and parameters: {'max_depth': 3, 'min_samples_leaf': 12}. Best is trial 31 with value: -4193.19923982848.\u001b[0m\n",
      "\u001b[32m[I 2023-05-13 16:17:38,856]\u001b[0m Trial 47 finished with value: -4613.711127271427 and parameters: {'max_depth': 3, 'min_samples_leaf': 15}. Best is trial 31 with value: -4193.19923982848.\u001b[0m\n",
      "\u001b[32m[I 2023-05-13 16:17:38,890]\u001b[0m Trial 48 finished with value: -4193.19923982848 and parameters: {'max_depth': 3, 'min_samples_leaf': 17}. Best is trial 31 with value: -4193.19923982848.\u001b[0m\n",
      "\u001b[32m[I 2023-05-13 16:17:38,920]\u001b[0m Trial 49 finished with value: -4193.19923982848 and parameters: {'max_depth': 3, 'min_samples_leaf': 17}. Best is trial 31 with value: -4193.19923982848.\u001b[0m\n",
      "\u001b[32m[I 2023-05-13 16:17:38,954]\u001b[0m Trial 50 finished with value: -4922.973387569968 and parameters: {'max_depth': 2, 'min_samples_leaf': 13}. Best is trial 31 with value: -4193.19923982848.\u001b[0m\n",
      "\u001b[32m[I 2023-05-13 16:17:38,980]\u001b[0m Trial 51 finished with value: -4193.19923982848 and parameters: {'max_depth': 3, 'min_samples_leaf': 17}. Best is trial 31 with value: -4193.19923982848.\u001b[0m\n",
      "\u001b[32m[I 2023-05-13 16:17:39,010]\u001b[0m Trial 52 finished with value: -4193.19923982848 and parameters: {'max_depth': 3, 'min_samples_leaf': 17}. Best is trial 31 with value: -4193.19923982848.\u001b[0m\n",
      "\u001b[32m[I 2023-05-13 16:17:39,046]\u001b[0m Trial 53 finished with value: -4193.19923982848 and parameters: {'max_depth': 3, 'min_samples_leaf': 17}. Best is trial 31 with value: -4193.19923982848.\u001b[0m\n",
      "\u001b[32m[I 2023-05-13 16:17:39,082]\u001b[0m Trial 54 finished with value: -4613.711127271427 and parameters: {'max_depth': 3, 'min_samples_leaf': 15}. Best is trial 31 with value: -4193.19923982848.\u001b[0m\n",
      "\u001b[32m[I 2023-05-13 16:17:39,112]\u001b[0m Trial 55 finished with value: -4549.210297531321 and parameters: {'max_depth': 3, 'min_samples_leaf': 21}. Best is trial 31 with value: -4193.19923982848.\u001b[0m\n",
      "\u001b[32m[I 2023-05-13 16:17:39,136]\u001b[0m Trial 56 finished with value: -5006.495549918552 and parameters: {'max_depth': 3, 'min_samples_leaf': 10}. Best is trial 31 with value: -4193.19923982848.\u001b[0m\n",
      "\u001b[32m[I 2023-05-13 16:17:39,165]\u001b[0m Trial 57 finished with value: -4193.19923982848 and parameters: {'max_depth': 3, 'min_samples_leaf': 17}. Best is trial 31 with value: -4193.19923982848.\u001b[0m\n",
      "\u001b[32m[I 2023-05-13 16:17:39,191]\u001b[0m Trial 58 finished with value: -4922.973387569968 and parameters: {'max_depth': 3, 'min_samples_leaf': 13}. Best is trial 31 with value: -4193.19923982848.\u001b[0m\n",
      "\u001b[32m[I 2023-05-13 16:17:39,221]\u001b[0m Trial 59 finished with value: -4613.711127271427 and parameters: {'max_depth': 4, 'min_samples_leaf': 15}. Best is trial 31 with value: -4193.19923982848.\u001b[0m\n",
      "\u001b[32m[I 2023-05-13 16:17:39,246]\u001b[0m Trial 60 finished with value: -4281.756361738874 and parameters: {'max_depth': 3, 'min_samples_leaf': 16}. Best is trial 31 with value: -4193.19923982848.\u001b[0m\n",
      "\u001b[32m[I 2023-05-13 16:17:39,268]\u001b[0m Trial 61 finished with value: -4193.19923982848 and parameters: {'max_depth': 3, 'min_samples_leaf': 17}. Best is trial 31 with value: -4193.19923982848.\u001b[0m\n",
      "\u001b[32m[I 2023-05-13 16:17:39,300]\u001b[0m Trial 62 finished with value: -4239.771430380463 and parameters: {'max_depth': 3, 'min_samples_leaf': 19}. Best is trial 31 with value: -4193.19923982848.\u001b[0m\n",
      "\u001b[32m[I 2023-05-13 16:17:39,326]\u001b[0m Trial 63 finished with value: -4193.19923982848 and parameters: {'max_depth': 3, 'min_samples_leaf': 17}. Best is trial 31 with value: -4193.19923982848.\u001b[0m\n",
      "\u001b[32m[I 2023-05-13 16:17:39,354]\u001b[0m Trial 64 finished with value: -4463.011073816305 and parameters: {'max_depth': 3, 'min_samples_leaf': 18}. Best is trial 31 with value: -4193.19923982848.\u001b[0m\n",
      "\u001b[32m[I 2023-05-13 16:17:39,386]\u001b[0m Trial 65 finished with value: -4658.231157505743 and parameters: {'max_depth': 3, 'min_samples_leaf': 14}. Best is trial 31 with value: -4193.19923982848.\u001b[0m\n",
      "\u001b[32m[I 2023-05-13 16:17:39,414]\u001b[0m Trial 66 finished with value: -4369.052470786083 and parameters: {'max_depth': 3, 'min_samples_leaf': 20}. Best is trial 31 with value: -4193.19923982848.\u001b[0m\n",
      "\u001b[32m[I 2023-05-13 16:17:39,442]\u001b[0m Trial 67 finished with value: -5105.968885736602 and parameters: {'max_depth': 3, 'min_samples_leaf': 2}. Best is trial 31 with value: -4193.19923982848.\u001b[0m\n",
      "\u001b[32m[I 2023-05-13 16:17:39,466]\u001b[0m Trial 68 finished with value: -4922.973387569968 and parameters: {'max_depth': 3, 'min_samples_leaf': 13}. Best is trial 31 with value: -4193.19923982848.\u001b[0m\n",
      "\u001b[32m[I 2023-05-13 16:17:39,493]\u001b[0m Trial 69 finished with value: -4281.756361738874 and parameters: {'max_depth': 3, 'min_samples_leaf': 16}. Best is trial 31 with value: -4193.19923982848.\u001b[0m\n",
      "\u001b[32m[I 2023-05-13 16:17:39,518]\u001b[0m Trial 70 finished with value: -4613.711127271427 and parameters: {'max_depth': 3, 'min_samples_leaf': 15}. Best is trial 31 with value: -4193.19923982848.\u001b[0m\n",
      "\u001b[32m[I 2023-05-13 16:17:39,547]\u001b[0m Trial 71 finished with value: -4193.19923982848 and parameters: {'max_depth': 3, 'min_samples_leaf': 17}. Best is trial 31 with value: -4193.19923982848.\u001b[0m\n",
      "\u001b[32m[I 2023-05-13 16:17:39,571]\u001b[0m Trial 72 finished with value: -4193.19923982848 and parameters: {'max_depth': 3, 'min_samples_leaf': 17}. Best is trial 31 with value: -4193.19923982848.\u001b[0m\n",
      "\u001b[32m[I 2023-05-13 16:17:39,602]\u001b[0m Trial 73 finished with value: -4463.011073816305 and parameters: {'max_depth': 3, 'min_samples_leaf': 18}. Best is trial 31 with value: -4193.19923982848.\u001b[0m\n",
      "\u001b[32m[I 2023-05-13 16:17:39,631]\u001b[0m Trial 74 finished with value: -4281.756361738874 and parameters: {'max_depth': 3, 'min_samples_leaf': 16}. Best is trial 31 with value: -4193.19923982848.\u001b[0m\n",
      "\u001b[32m[I 2023-05-13 16:17:39,657]\u001b[0m Trial 75 finished with value: -4239.771430380463 and parameters: {'max_depth': 3, 'min_samples_leaf': 19}. Best is trial 31 with value: -4193.19923982848.\u001b[0m\n",
      "\u001b[32m[I 2023-05-13 16:17:39,685]\u001b[0m Trial 76 finished with value: -4369.052470786083 and parameters: {'max_depth': 3, 'min_samples_leaf': 20}. Best is trial 31 with value: -4193.19923982848.\u001b[0m\n",
      "\u001b[32m[I 2023-05-13 16:17:39,729]\u001b[0m Trial 77 finished with value: -4463.011073816305 and parameters: {'max_depth': 3, 'min_samples_leaf': 18}. Best is trial 31 with value: -4193.19923982848.\u001b[0m\n",
      "\u001b[32m[I 2023-05-13 16:17:39,760]\u001b[0m Trial 78 finished with value: -4658.231157505743 and parameters: {'max_depth': 3, 'min_samples_leaf': 14}. Best is trial 31 with value: -4193.19923982848.\u001b[0m\n",
      "\u001b[32m[I 2023-05-13 16:17:39,790]\u001b[0m Trial 79 finished with value: -4281.756361738874 and parameters: {'max_depth': 3, 'min_samples_leaf': 16}. Best is trial 31 with value: -4193.19923982848.\u001b[0m\n",
      "\u001b[32m[I 2023-05-13 16:17:39,817]\u001b[0m Trial 80 finished with value: -4549.210297531321 and parameters: {'max_depth': 3, 'min_samples_leaf': 21}. Best is trial 31 with value: -4193.19923982848.\u001b[0m\n",
      "\u001b[32m[I 2023-05-13 16:17:39,850]\u001b[0m Trial 81 finished with value: -4193.19923982848 and parameters: {'max_depth': 3, 'min_samples_leaf': 17}. Best is trial 31 with value: -4193.19923982848.\u001b[0m\n",
      "\u001b[32m[I 2023-05-13 16:17:39,883]\u001b[0m Trial 82 finished with value: -4193.19923982848 and parameters: {'max_depth': 3, 'min_samples_leaf': 17}. Best is trial 31 with value: -4193.19923982848.\u001b[0m\n",
      "\u001b[32m[I 2023-05-13 16:17:39,918]\u001b[0m Trial 83 finished with value: -4613.711127271427 and parameters: {'max_depth': 3, 'min_samples_leaf': 15}. Best is trial 31 with value: -4193.19923982848.\u001b[0m\n",
      "\u001b[32m[I 2023-05-13 16:17:39,956]\u001b[0m Trial 84 finished with value: -4463.011073816305 and parameters: {'max_depth': 3, 'min_samples_leaf': 18}. Best is trial 31 with value: -4193.19923982848.\u001b[0m\n",
      "\u001b[32m[I 2023-05-13 16:17:39,988]\u001b[0m Trial 85 finished with value: -4239.771430380463 and parameters: {'max_depth': 3, 'min_samples_leaf': 19}. Best is trial 31 with value: -4193.19923982848.\u001b[0m\n",
      "\u001b[32m[I 2023-05-13 16:17:40,022]\u001b[0m Trial 86 finished with value: -4281.756361738874 and parameters: {'max_depth': 3, 'min_samples_leaf': 16}. Best is trial 31 with value: -4193.19923982848.\u001b[0m\n",
      "\u001b[32m[I 2023-05-13 16:17:40,056]\u001b[0m Trial 87 finished with value: -4613.711127271427 and parameters: {'max_depth': 3, 'min_samples_leaf': 15}. Best is trial 31 with value: -4193.19923982848.\u001b[0m\n",
      "\u001b[32m[I 2023-05-13 16:17:40,089]\u001b[0m Trial 88 finished with value: -4463.011073816305 and parameters: {'max_depth': 3, 'min_samples_leaf': 18}. Best is trial 31 with value: -4193.19923982848.\u001b[0m\n",
      "\u001b[32m[I 2023-05-13 16:17:40,113]\u001b[0m Trial 89 finished with value: -4193.19923982848 and parameters: {'max_depth': 3, 'min_samples_leaf': 17}. Best is trial 31 with value: -4193.19923982848.\u001b[0m\n",
      "\u001b[32m[I 2023-05-13 16:17:40,147]\u001b[0m Trial 90 finished with value: -4549.210297531321 and parameters: {'max_depth': 3, 'min_samples_leaf': 22}. Best is trial 31 with value: -4193.19923982848.\u001b[0m\n",
      "\u001b[32m[I 2023-05-13 16:17:40,179]\u001b[0m Trial 91 finished with value: -4193.19923982848 and parameters: {'max_depth': 3, 'min_samples_leaf': 17}. Best is trial 31 with value: -4193.19923982848.\u001b[0m\n",
      "\u001b[32m[I 2023-05-13 16:17:40,206]\u001b[0m Trial 92 finished with value: -4463.011073816305 and parameters: {'max_depth': 3, 'min_samples_leaf': 18}. Best is trial 31 with value: -4193.19923982848.\u001b[0m\n",
      "\u001b[32m[I 2023-05-13 16:17:40,240]\u001b[0m Trial 93 finished with value: -4369.052470786083 and parameters: {'max_depth': 3, 'min_samples_leaf': 20}. Best is trial 31 with value: -4193.19923982848.\u001b[0m\n",
      "\u001b[32m[I 2023-05-13 16:17:40,264]\u001b[0m Trial 94 finished with value: -4281.756361738874 and parameters: {'max_depth': 3, 'min_samples_leaf': 16}. Best is trial 31 with value: -4193.19923982848.\u001b[0m\n",
      "\u001b[32m[I 2023-05-13 16:17:40,289]\u001b[0m Trial 95 finished with value: -4239.771430380463 and parameters: {'max_depth': 3, 'min_samples_leaf': 19}. Best is trial 31 with value: -4193.19923982848.\u001b[0m\n",
      "\u001b[32m[I 2023-05-13 16:17:40,321]\u001b[0m Trial 96 finished with value: -4193.19923982848 and parameters: {'max_depth': 3, 'min_samples_leaf': 17}. Best is trial 31 with value: -4193.19923982848.\u001b[0m\n",
      "\u001b[32m[I 2023-05-13 16:17:40,355]\u001b[0m Trial 97 finished with value: -4658.231157505743 and parameters: {'max_depth': 3, 'min_samples_leaf': 14}. Best is trial 31 with value: -4193.19923982848.\u001b[0m\n",
      "\u001b[32m[I 2023-05-13 16:17:40,381]\u001b[0m Trial 98 finished with value: -4613.711127271427 and parameters: {'max_depth': 3, 'min_samples_leaf': 15}. Best is trial 31 with value: -4193.19923982848.\u001b[0m\n",
      "\u001b[32m[I 2023-05-13 16:17:40,407]\u001b[0m Trial 99 finished with value: -4281.756361738874 and parameters: {'max_depth': 3, 'min_samples_leaf': 16}. Best is trial 31 with value: -4193.19923982848.\u001b[0m\n",
      "\u001b[32m[I 2023-05-13 16:17:40,432]\u001b[0m Trial 100 finished with value: -4463.011073816305 and parameters: {'max_depth': 3, 'min_samples_leaf': 18}. Best is trial 31 with value: -4193.19923982848.\u001b[0m\n",
      "\u001b[32m[I 2023-05-13 16:17:40,456]\u001b[0m Trial 101 finished with value: -4193.19923982848 and parameters: {'max_depth': 3, 'min_samples_leaf': 17}. Best is trial 31 with value: -4193.19923982848.\u001b[0m\n",
      "\u001b[32m[I 2023-05-13 16:17:40,489]\u001b[0m Trial 102 finished with value: -4193.19923982848 and parameters: {'max_depth': 3, 'min_samples_leaf': 17}. Best is trial 31 with value: -4193.19923982848.\u001b[0m\n",
      "\u001b[32m[I 2023-05-13 16:17:40,516]\u001b[0m Trial 103 finished with value: -4239.771430380463 and parameters: {'max_depth': 3, 'min_samples_leaf': 19}. Best is trial 31 with value: -4193.19923982848.\u001b[0m\n",
      "\u001b[32m[I 2023-05-13 16:17:40,541]\u001b[0m Trial 104 finished with value: -4281.756361738874 and parameters: {'max_depth': 3, 'min_samples_leaf': 16}. Best is trial 31 with value: -4193.19923982848.\u001b[0m\n",
      "\u001b[32m[I 2023-05-13 16:17:40,557]\u001b[0m Trial 105 finished with value: -4193.19923982848 and parameters: {'max_depth': 3, 'min_samples_leaf': 17}. Best is trial 31 with value: -4193.19923982848.\u001b[0m\n",
      "\u001b[32m[I 2023-05-13 16:17:40,589]\u001b[0m Trial 106 finished with value: -4369.052470786083 and parameters: {'max_depth': 3, 'min_samples_leaf': 20}. Best is trial 31 with value: -4193.19923982848.\u001b[0m\n",
      "\u001b[32m[I 2023-05-13 16:17:40,615]\u001b[0m Trial 107 finished with value: -4239.771430380463 and parameters: {'max_depth': 3, 'min_samples_leaf': 19}. Best is trial 31 with value: -4193.19923982848.\u001b[0m\n",
      "\u001b[32m[I 2023-05-13 16:17:40,647]\u001b[0m Trial 108 finished with value: -4613.711127271427 and parameters: {'max_depth': 3, 'min_samples_leaf': 15}. Best is trial 31 with value: -4193.19923982848.\u001b[0m\n",
      "\u001b[32m[I 2023-05-13 16:17:40,672]\u001b[0m Trial 109 finished with value: -4922.973387569968 and parameters: {'max_depth': 3, 'min_samples_leaf': 13}. Best is trial 31 with value: -4193.19923982848.\u001b[0m\n",
      "\u001b[32m[I 2023-05-13 16:17:40,706]\u001b[0m Trial 110 finished with value: -4463.011073816305 and parameters: {'max_depth': 3, 'min_samples_leaf': 18}. Best is trial 31 with value: -4193.19923982848.\u001b[0m\n",
      "\u001b[32m[I 2023-05-13 16:17:40,731]\u001b[0m Trial 111 finished with value: -4193.19923982848 and parameters: {'max_depth': 3, 'min_samples_leaf': 17}. Best is trial 31 with value: -4193.19923982848.\u001b[0m\n",
      "\u001b[32m[I 2023-05-13 16:17:40,756]\u001b[0m Trial 112 finished with value: -4281.756361738874 and parameters: {'max_depth': 3, 'min_samples_leaf': 16}. Best is trial 31 with value: -4193.19923982848.\u001b[0m\n",
      "\u001b[32m[I 2023-05-13 16:17:40,788]\u001b[0m Trial 113 finished with value: -4463.011073816305 and parameters: {'max_depth': 3, 'min_samples_leaf': 18}. Best is trial 31 with value: -4193.19923982848.\u001b[0m\n",
      "\u001b[32m[I 2023-05-13 16:17:40,805]\u001b[0m Trial 114 finished with value: -4193.19923982848 and parameters: {'max_depth': 3, 'min_samples_leaf': 17}. Best is trial 31 with value: -4193.19923982848.\u001b[0m\n",
      "\u001b[32m[I 2023-05-13 16:17:40,840]\u001b[0m Trial 115 finished with value: -4239.771430380463 and parameters: {'max_depth': 3, 'min_samples_leaf': 19}. Best is trial 31 with value: -4193.19923982848.\u001b[0m\n",
      "\u001b[32m[I 2023-05-13 16:17:40,864]\u001b[0m Trial 116 finished with value: -4613.711127271427 and parameters: {'max_depth': 3, 'min_samples_leaf': 15}. Best is trial 31 with value: -4193.19923982848.\u001b[0m\n",
      "\u001b[32m[I 2023-05-13 16:17:40,898]\u001b[0m Trial 117 finished with value: -4281.756361738874 and parameters: {'max_depth': 3, 'min_samples_leaf': 16}. Best is trial 31 with value: -4193.19923982848.\u001b[0m\n",
      "\u001b[32m[I 2023-05-13 16:17:40,931]\u001b[0m Trial 118 finished with value: -4658.231157505743 and parameters: {'max_depth': 3, 'min_samples_leaf': 14}. Best is trial 31 with value: -4193.19923982848.\u001b[0m\n",
      "\u001b[32m[I 2023-05-13 16:17:40,956]\u001b[0m Trial 119 finished with value: -4193.19923982848 and parameters: {'max_depth': 3, 'min_samples_leaf': 17}. Best is trial 31 with value: -4193.19923982848.\u001b[0m\n"
     ]
    },
    {
     "name": "stdout",
     "output_type": "stream",
     "text": [
      "Best Score:  -4193.19923982848\n",
      "Best Params: \n",
      "  max_depth: 3\n",
      "  min_samples_leaf: 17\n"
     ]
    },
    {
     "data": {
      "application/vnd.plotly.v1+json": {
       "config": {
        "plotlyServerURL": "https://plot.ly"
       },
       "data": [
        {
         "colorbar": {
          "title": {
           "text": "Objective Value"
          }
         },
         "colorscale": [
          [
           0,
           "rgb(247,251,255)"
          ],
          [
           0.125,
           "rgb(222,235,247)"
          ],
          [
           0.25,
           "rgb(198,219,239)"
          ],
          [
           0.375,
           "rgb(158,202,225)"
          ],
          [
           0.5,
           "rgb(107,174,214)"
          ],
          [
           0.625,
           "rgb(66,146,198)"
          ],
          [
           0.75,
           "rgb(33,113,181)"
          ],
          [
           0.875,
           "rgb(8,81,156)"
          ],
          [
           1,
           "rgb(8,48,107)"
          ]
         ],
         "connectgaps": true,
         "contours": {
          "coloring": "heatmap"
         },
         "hoverinfo": "none",
         "line": {
          "smoothing": 1.3
         },
         "reversescale": false,
         "type": "contour",
         "x": [
          1.9,
          2,
          3,
          4,
          4.1
         ],
         "y": [
          0.5999999999999999,
          2,
          3,
          4,
          5,
          6,
          8,
          10,
          11,
          12,
          13,
          14,
          15,
          16,
          17,
          18,
          19,
          20,
          21,
          22,
          23,
          24,
          25,
          26,
          27,
          30,
          31.4
         ],
         "z": [
          [
           null,
           null,
           null,
           null,
           null
          ],
          [
           null,
           null,
           -5105.968885736602,
           null,
           null
          ],
          [
           null,
           -4573.261348918718,
           null,
           null,
           null
          ],
          [
           null,
           -4573.261348918718,
           null,
           null,
           null
          ],
          [
           null,
           null,
           -4607.6749215317495,
           -5009.022302841342,
           null
          ],
          [
           null,
           null,
           null,
           -4705.06494139535,
           null
          ],
          [
           null,
           null,
           -4486.234597555074,
           null,
           null
          ],
          [
           null,
           null,
           -5006.495549918552,
           null,
           null
          ],
          [
           null,
           -4860.39605015489,
           null,
           null,
           null
          ],
          [
           null,
           null,
           -4860.39605015489,
           -4860.39605015489,
           null
          ],
          [
           null,
           -4922.973387569968,
           -4922.973387569968,
           null,
           null
          ],
          [
           null,
           -4658.231157505743,
           -4658.231157505743,
           null,
           null
          ],
          [
           null,
           null,
           -4613.711127271427,
           -4613.711127271427,
           null
          ],
          [
           null,
           null,
           -4281.756361738874,
           null,
           null
          ],
          [
           null,
           null,
           -4193.19923982848,
           null,
           null
          ],
          [
           null,
           null,
           -4463.011073816305,
           null,
           null
          ],
          [
           null,
           null,
           -4239.771430380463,
           null,
           null
          ],
          [
           null,
           -4369.052470786083,
           -4369.052470786083,
           null,
           null
          ],
          [
           null,
           -4549.210297531321,
           -4549.210297531321,
           null,
           null
          ],
          [
           null,
           -4549.210297531321,
           -4549.210297531321,
           null,
           null
          ],
          [
           null,
           null,
           null,
           -4549.210297531321,
           null
          ],
          [
           null,
           null,
           null,
           -4549.210297531321,
           null
          ],
          [
           null,
           null,
           -4549.210297531321,
           null,
           null
          ],
          [
           null,
           -4549.210297531321,
           -4549.210297531321,
           null,
           null
          ],
          [
           null,
           -4760.378674525239,
           null,
           null,
           null
          ],
          [
           null,
           null,
           -5905.560390922209,
           null,
           null
          ],
          [
           null,
           null,
           null,
           null,
           null
          ]
         ]
        },
        {
         "marker": {
          "color": "black",
          "line": {
           "color": "Grey",
           "width": 2
          }
         },
         "mode": "markers",
         "showlegend": false,
         "type": "scatter",
         "x": [
          2,
          2,
          3,
          2,
          2,
          4,
          2,
          4,
          2,
          4,
          3,
          3,
          2,
          2,
          3,
          3,
          3,
          3,
          3,
          4,
          3,
          3,
          3,
          3,
          3,
          4,
          3,
          3,
          3,
          4,
          3,
          3,
          3,
          3,
          3,
          3,
          3,
          2,
          3,
          4,
          2,
          3,
          3,
          3,
          3,
          3,
          3,
          3,
          3,
          3,
          2,
          3,
          3,
          3,
          3,
          3,
          3,
          3,
          3,
          4,
          3,
          3,
          3,
          3,
          3,
          3,
          3,
          3,
          3,
          3,
          3,
          3,
          3,
          3,
          3,
          3,
          3,
          3,
          3,
          3,
          3,
          3,
          3,
          3,
          3,
          3,
          3,
          3,
          3,
          3,
          3,
          3,
          3,
          3,
          3,
          3,
          3,
          3,
          3,
          3,
          3,
          3,
          3,
          3,
          3,
          3,
          3,
          3,
          3,
          3,
          3,
          3,
          3,
          3,
          3,
          3,
          3,
          3,
          3,
          3
         ],
         "y": [
          22,
          3,
          5,
          4,
          26,
          6,
          11,
          5,
          3,
          12,
          25,
          26,
          21,
          20,
          19,
          16,
          16,
          16,
          30,
          12,
          18,
          15,
          14,
          8,
          18,
          23,
          19,
          20,
          18,
          23,
          10,
          17,
          14,
          18,
          20,
          16,
          22,
          14,
          17,
          24,
          27,
          19,
          19,
          21,
          17,
          17,
          12,
          15,
          17,
          17,
          13,
          17,
          17,
          17,
          15,
          21,
          10,
          17,
          13,
          15,
          16,
          17,
          19,
          17,
          18,
          14,
          20,
          2,
          13,
          16,
          15,
          17,
          17,
          18,
          16,
          19,
          20,
          18,
          14,
          16,
          21,
          17,
          17,
          15,
          18,
          19,
          16,
          15,
          18,
          17,
          22,
          17,
          18,
          20,
          16,
          19,
          17,
          14,
          15,
          16,
          18,
          17,
          17,
          19,
          16,
          17,
          20,
          19,
          15,
          13,
          18,
          17,
          16,
          18,
          17,
          19,
          15,
          16,
          14,
          17
         ]
        }
       ],
       "layout": {
        "template": {
         "data": {
          "bar": [
           {
            "error_x": {
             "color": "#2a3f5f"
            },
            "error_y": {
             "color": "#2a3f5f"
            },
            "marker": {
             "line": {
              "color": "#E5ECF6",
              "width": 0.5
             },
             "pattern": {
              "fillmode": "overlay",
              "size": 10,
              "solidity": 0.2
             }
            },
            "type": "bar"
           }
          ],
          "barpolar": [
           {
            "marker": {
             "line": {
              "color": "#E5ECF6",
              "width": 0.5
             },
             "pattern": {
              "fillmode": "overlay",
              "size": 10,
              "solidity": 0.2
             }
            },
            "type": "barpolar"
           }
          ],
          "carpet": [
           {
            "aaxis": {
             "endlinecolor": "#2a3f5f",
             "gridcolor": "white",
             "linecolor": "white",
             "minorgridcolor": "white",
             "startlinecolor": "#2a3f5f"
            },
            "baxis": {
             "endlinecolor": "#2a3f5f",
             "gridcolor": "white",
             "linecolor": "white",
             "minorgridcolor": "white",
             "startlinecolor": "#2a3f5f"
            },
            "type": "carpet"
           }
          ],
          "choropleth": [
           {
            "colorbar": {
             "outlinewidth": 0,
             "ticks": ""
            },
            "type": "choropleth"
           }
          ],
          "contour": [
           {
            "colorbar": {
             "outlinewidth": 0,
             "ticks": ""
            },
            "colorscale": [
             [
              0,
              "#0d0887"
             ],
             [
              0.1111111111111111,
              "#46039f"
             ],
             [
              0.2222222222222222,
              "#7201a8"
             ],
             [
              0.3333333333333333,
              "#9c179e"
             ],
             [
              0.4444444444444444,
              "#bd3786"
             ],
             [
              0.5555555555555556,
              "#d8576b"
             ],
             [
              0.6666666666666666,
              "#ed7953"
             ],
             [
              0.7777777777777778,
              "#fb9f3a"
             ],
             [
              0.8888888888888888,
              "#fdca26"
             ],
             [
              1,
              "#f0f921"
             ]
            ],
            "type": "contour"
           }
          ],
          "contourcarpet": [
           {
            "colorbar": {
             "outlinewidth": 0,
             "ticks": ""
            },
            "type": "contourcarpet"
           }
          ],
          "heatmap": [
           {
            "colorbar": {
             "outlinewidth": 0,
             "ticks": ""
            },
            "colorscale": [
             [
              0,
              "#0d0887"
             ],
             [
              0.1111111111111111,
              "#46039f"
             ],
             [
              0.2222222222222222,
              "#7201a8"
             ],
             [
              0.3333333333333333,
              "#9c179e"
             ],
             [
              0.4444444444444444,
              "#bd3786"
             ],
             [
              0.5555555555555556,
              "#d8576b"
             ],
             [
              0.6666666666666666,
              "#ed7953"
             ],
             [
              0.7777777777777778,
              "#fb9f3a"
             ],
             [
              0.8888888888888888,
              "#fdca26"
             ],
             [
              1,
              "#f0f921"
             ]
            ],
            "type": "heatmap"
           }
          ],
          "heatmapgl": [
           {
            "colorbar": {
             "outlinewidth": 0,
             "ticks": ""
            },
            "colorscale": [
             [
              0,
              "#0d0887"
             ],
             [
              0.1111111111111111,
              "#46039f"
             ],
             [
              0.2222222222222222,
              "#7201a8"
             ],
             [
              0.3333333333333333,
              "#9c179e"
             ],
             [
              0.4444444444444444,
              "#bd3786"
             ],
             [
              0.5555555555555556,
              "#d8576b"
             ],
             [
              0.6666666666666666,
              "#ed7953"
             ],
             [
              0.7777777777777778,
              "#fb9f3a"
             ],
             [
              0.8888888888888888,
              "#fdca26"
             ],
             [
              1,
              "#f0f921"
             ]
            ],
            "type": "heatmapgl"
           }
          ],
          "histogram": [
           {
            "marker": {
             "pattern": {
              "fillmode": "overlay",
              "size": 10,
              "solidity": 0.2
             }
            },
            "type": "histogram"
           }
          ],
          "histogram2d": [
           {
            "colorbar": {
             "outlinewidth": 0,
             "ticks": ""
            },
            "colorscale": [
             [
              0,
              "#0d0887"
             ],
             [
              0.1111111111111111,
              "#46039f"
             ],
             [
              0.2222222222222222,
              "#7201a8"
             ],
             [
              0.3333333333333333,
              "#9c179e"
             ],
             [
              0.4444444444444444,
              "#bd3786"
             ],
             [
              0.5555555555555556,
              "#d8576b"
             ],
             [
              0.6666666666666666,
              "#ed7953"
             ],
             [
              0.7777777777777778,
              "#fb9f3a"
             ],
             [
              0.8888888888888888,
              "#fdca26"
             ],
             [
              1,
              "#f0f921"
             ]
            ],
            "type": "histogram2d"
           }
          ],
          "histogram2dcontour": [
           {
            "colorbar": {
             "outlinewidth": 0,
             "ticks": ""
            },
            "colorscale": [
             [
              0,
              "#0d0887"
             ],
             [
              0.1111111111111111,
              "#46039f"
             ],
             [
              0.2222222222222222,
              "#7201a8"
             ],
             [
              0.3333333333333333,
              "#9c179e"
             ],
             [
              0.4444444444444444,
              "#bd3786"
             ],
             [
              0.5555555555555556,
              "#d8576b"
             ],
             [
              0.6666666666666666,
              "#ed7953"
             ],
             [
              0.7777777777777778,
              "#fb9f3a"
             ],
             [
              0.8888888888888888,
              "#fdca26"
             ],
             [
              1,
              "#f0f921"
             ]
            ],
            "type": "histogram2dcontour"
           }
          ],
          "mesh3d": [
           {
            "colorbar": {
             "outlinewidth": 0,
             "ticks": ""
            },
            "type": "mesh3d"
           }
          ],
          "parcoords": [
           {
            "line": {
             "colorbar": {
              "outlinewidth": 0,
              "ticks": ""
             }
            },
            "type": "parcoords"
           }
          ],
          "pie": [
           {
            "automargin": true,
            "type": "pie"
           }
          ],
          "scatter": [
           {
            "fillpattern": {
             "fillmode": "overlay",
             "size": 10,
             "solidity": 0.2
            },
            "type": "scatter"
           }
          ],
          "scatter3d": [
           {
            "line": {
             "colorbar": {
              "outlinewidth": 0,
              "ticks": ""
             }
            },
            "marker": {
             "colorbar": {
              "outlinewidth": 0,
              "ticks": ""
             }
            },
            "type": "scatter3d"
           }
          ],
          "scattercarpet": [
           {
            "marker": {
             "colorbar": {
              "outlinewidth": 0,
              "ticks": ""
             }
            },
            "type": "scattercarpet"
           }
          ],
          "scattergeo": [
           {
            "marker": {
             "colorbar": {
              "outlinewidth": 0,
              "ticks": ""
             }
            },
            "type": "scattergeo"
           }
          ],
          "scattergl": [
           {
            "marker": {
             "colorbar": {
              "outlinewidth": 0,
              "ticks": ""
             }
            },
            "type": "scattergl"
           }
          ],
          "scattermapbox": [
           {
            "marker": {
             "colorbar": {
              "outlinewidth": 0,
              "ticks": ""
             }
            },
            "type": "scattermapbox"
           }
          ],
          "scatterpolar": [
           {
            "marker": {
             "colorbar": {
              "outlinewidth": 0,
              "ticks": ""
             }
            },
            "type": "scatterpolar"
           }
          ],
          "scatterpolargl": [
           {
            "marker": {
             "colorbar": {
              "outlinewidth": 0,
              "ticks": ""
             }
            },
            "type": "scatterpolargl"
           }
          ],
          "scatterternary": [
           {
            "marker": {
             "colorbar": {
              "outlinewidth": 0,
              "ticks": ""
             }
            },
            "type": "scatterternary"
           }
          ],
          "surface": [
           {
            "colorbar": {
             "outlinewidth": 0,
             "ticks": ""
            },
            "colorscale": [
             [
              0,
              "#0d0887"
             ],
             [
              0.1111111111111111,
              "#46039f"
             ],
             [
              0.2222222222222222,
              "#7201a8"
             ],
             [
              0.3333333333333333,
              "#9c179e"
             ],
             [
              0.4444444444444444,
              "#bd3786"
             ],
             [
              0.5555555555555556,
              "#d8576b"
             ],
             [
              0.6666666666666666,
              "#ed7953"
             ],
             [
              0.7777777777777778,
              "#fb9f3a"
             ],
             [
              0.8888888888888888,
              "#fdca26"
             ],
             [
              1,
              "#f0f921"
             ]
            ],
            "type": "surface"
           }
          ],
          "table": [
           {
            "cells": {
             "fill": {
              "color": "#EBF0F8"
             },
             "line": {
              "color": "white"
             }
            },
            "header": {
             "fill": {
              "color": "#C8D4E3"
             },
             "line": {
              "color": "white"
             }
            },
            "type": "table"
           }
          ]
         },
         "layout": {
          "annotationdefaults": {
           "arrowcolor": "#2a3f5f",
           "arrowhead": 0,
           "arrowwidth": 1
          },
          "autotypenumbers": "strict",
          "coloraxis": {
           "colorbar": {
            "outlinewidth": 0,
            "ticks": ""
           }
          },
          "colorscale": {
           "diverging": [
            [
             0,
             "#8e0152"
            ],
            [
             0.1,
             "#c51b7d"
            ],
            [
             0.2,
             "#de77ae"
            ],
            [
             0.3,
             "#f1b6da"
            ],
            [
             0.4,
             "#fde0ef"
            ],
            [
             0.5,
             "#f7f7f7"
            ],
            [
             0.6,
             "#e6f5d0"
            ],
            [
             0.7,
             "#b8e186"
            ],
            [
             0.8,
             "#7fbc41"
            ],
            [
             0.9,
             "#4d9221"
            ],
            [
             1,
             "#276419"
            ]
           ],
           "sequential": [
            [
             0,
             "#0d0887"
            ],
            [
             0.1111111111111111,
             "#46039f"
            ],
            [
             0.2222222222222222,
             "#7201a8"
            ],
            [
             0.3333333333333333,
             "#9c179e"
            ],
            [
             0.4444444444444444,
             "#bd3786"
            ],
            [
             0.5555555555555556,
             "#d8576b"
            ],
            [
             0.6666666666666666,
             "#ed7953"
            ],
            [
             0.7777777777777778,
             "#fb9f3a"
            ],
            [
             0.8888888888888888,
             "#fdca26"
            ],
            [
             1,
             "#f0f921"
            ]
           ],
           "sequentialminus": [
            [
             0,
             "#0d0887"
            ],
            [
             0.1111111111111111,
             "#46039f"
            ],
            [
             0.2222222222222222,
             "#7201a8"
            ],
            [
             0.3333333333333333,
             "#9c179e"
            ],
            [
             0.4444444444444444,
             "#bd3786"
            ],
            [
             0.5555555555555556,
             "#d8576b"
            ],
            [
             0.6666666666666666,
             "#ed7953"
            ],
            [
             0.7777777777777778,
             "#fb9f3a"
            ],
            [
             0.8888888888888888,
             "#fdca26"
            ],
            [
             1,
             "#f0f921"
            ]
           ]
          },
          "colorway": [
           "#636efa",
           "#EF553B",
           "#00cc96",
           "#ab63fa",
           "#FFA15A",
           "#19d3f3",
           "#FF6692",
           "#B6E880",
           "#FF97FF",
           "#FECB52"
          ],
          "font": {
           "color": "#2a3f5f"
          },
          "geo": {
           "bgcolor": "white",
           "lakecolor": "white",
           "landcolor": "#E5ECF6",
           "showlakes": true,
           "showland": true,
           "subunitcolor": "white"
          },
          "hoverlabel": {
           "align": "left"
          },
          "hovermode": "closest",
          "mapbox": {
           "style": "light"
          },
          "paper_bgcolor": "white",
          "plot_bgcolor": "#E5ECF6",
          "polar": {
           "angularaxis": {
            "gridcolor": "white",
            "linecolor": "white",
            "ticks": ""
           },
           "bgcolor": "#E5ECF6",
           "radialaxis": {
            "gridcolor": "white",
            "linecolor": "white",
            "ticks": ""
           }
          },
          "scene": {
           "xaxis": {
            "backgroundcolor": "#E5ECF6",
            "gridcolor": "white",
            "gridwidth": 2,
            "linecolor": "white",
            "showbackground": true,
            "ticks": "",
            "zerolinecolor": "white"
           },
           "yaxis": {
            "backgroundcolor": "#E5ECF6",
            "gridcolor": "white",
            "gridwidth": 2,
            "linecolor": "white",
            "showbackground": true,
            "ticks": "",
            "zerolinecolor": "white"
           },
           "zaxis": {
            "backgroundcolor": "#E5ECF6",
            "gridcolor": "white",
            "gridwidth": 2,
            "linecolor": "white",
            "showbackground": true,
            "ticks": "",
            "zerolinecolor": "white"
           }
          },
          "shapedefaults": {
           "line": {
            "color": "#2a3f5f"
           }
          },
          "ternary": {
           "aaxis": {
            "gridcolor": "white",
            "linecolor": "white",
            "ticks": ""
           },
           "baxis": {
            "gridcolor": "white",
            "linecolor": "white",
            "ticks": ""
           },
           "bgcolor": "#E5ECF6",
           "caxis": {
            "gridcolor": "white",
            "linecolor": "white",
            "ticks": ""
           }
          },
          "title": {
           "x": 0.05
          },
          "xaxis": {
           "automargin": true,
           "gridcolor": "white",
           "linecolor": "white",
           "ticks": "",
           "title": {
            "standoff": 15
           },
           "zerolinecolor": "white",
           "zerolinewidth": 2
          },
          "yaxis": {
           "automargin": true,
           "gridcolor": "white",
           "linecolor": "white",
           "ticks": "",
           "title": {
            "standoff": 15
           },
           "zerolinecolor": "white",
           "zerolinewidth": 2
          }
         }
        },
        "title": {
         "text": "Contour Plot"
        },
        "xaxis": {
         "range": [
          1.9,
          4.1
         ],
         "title": {
          "text": "max_depth"
         }
        },
        "yaxis": {
         "range": [
          0.5999999999999999,
          31.4
         ],
         "title": {
          "text": "min_samples_leaf"
         }
        }
       }
      }
     },
     "metadata": {},
     "output_type": "display_data"
    }
   ],
   "source": [
    "import optuna\n",
    "from sklearn.model_selection import cross_val_score\n",
    "\n",
    "\n",
    "def objective(trial):\n",
    "    max_depth = trial.suggest_int(\"max_depth\", 2, 4)\n",
    "    #splitter = trial.suggest_categorical(\"splitter\",['best','random'])\n",
    "    min_samples_leaf=trial.suggest_int(\"min_samples_leaf\", 2, 30)\n",
    "   \n",
    "    dtr_model = DecisionTreeRegressor(\n",
    "        max_depth = max_depth,\n",
    "        #splitter = splitter,\n",
    "        min_samples_leaf = min_samples_leaf,\n",
    "        random_state = 42)\n",
    "    score = cross_val_score(dtr_model, X_train, y_train, scoring='neg_mean_squared_error', cv=3).mean()\n",
    "    return score\n",
    "\n",
    "\n",
    "study = optuna.create_study(direction = \"maximize\")\n",
    "study.optimize(objective, n_trials =120)\n",
    "trial = study.best_trial\n",
    "print(\"Best Score: \", trial.value)\n",
    "print(\"Best Params: \")\n",
    "for key, value in trial.params.items():\n",
    "    print(\"  {}: {}\".format(key, value))\n",
    "optuna.visualization.plot_contour(study)"
   ]
  },
  {
   "cell_type": "markdown",
   "metadata": {},
   "source": [
    "Визуализируйте дерево при оптимальных гиперпараметрах и посчитайте его ошибку на тестовой части выборки."
   ]
  },
  {
   "cell_type": "code",
   "execution_count": 40,
   "metadata": {},
   "outputs": [
    {
     "data": {
      "text/plain": [
       "[]"
      ]
     },
     "execution_count": 40,
     "metadata": {},
     "output_type": "execute_result"
    },
    {
     "data": {
      "image/png": "[encoded data removed]",
      "text/plain": [
       "<Figure size 1000x1000 with 1 Axes>"
      ]
     },
     "metadata": {},
     "output_type": "display_data"
    }
   ],
   "source": [
    "best_clf = DecisionTreeRegressor(**trial.params)\n",
    "best_clf.fit(X_train, y_train)\n",
    "mean_squared_error(best_clf.predict(X_test), y_test)\n",
    "\n",
    "plt.figure(figsize=(10,10))\n",
    "plot_tree(best_clf)\n",
    "plt.plot()"
   ]
  },
  {
   "cell_type": "markdown",
   "metadata": {},
   "source": [
    "Решающее дерево позволяет оценить *важность признаков* &mdash; некоторая величина, зависящая от того\n",
    "* насколько часто тот или иной признак использовался при разбиении листа, \n",
    "* и насколько сильно при этом изменился критерий информативности.\n",
    "\n",
    "У обученной модели значения важности признаков лежат в поле `feature_importances_`. Визуализируйте их с помощью `seaborn.barplot`."
   ]
  },
  {
   "cell_type": "code",
   "execution_count": 41,
   "metadata": {},
   "outputs": [
    {
     "data": {
      "text/plain": [
       "<BarContainer object of 10 artists>"
      ]
     },
     "execution_count": 41,
     "metadata": {},
     "output_type": "execute_result"
    },
    {
     "data": {
      "image/png": "[encoded data removed]",
      "text/plain": [
       "<Figure size 640x480 with 1 Axes>"
      ]
     },
     "metadata": {},
     "output_type": "display_data"
    }
   ],
   "source": [
    "plt.bar(x=range(X.shape[1]),height=best_clf.feature_importances_)"
   ]
  },
  {
   "cell_type": "markdown",
   "metadata": {},
   "source": [
    "Сделайте выводы."
   ]
  },
  {
   "attachments": {},
   "cell_type": "markdown",
   "metadata": {},
   "source": [
    "**Вывод:** в индустрии постепенно уходят от feature importance бустинга и random forest. В отличие от весов при логистической регрессии feature importance не отражает, какое внимание будет уделять признаку при его возрастании. Один из трендов - вектора Шэппели, пришедшие из кооперативной теории игр. Вектор позволяет оценить вклад в принятие решение каждого признака. Дополнительным преимуществом является совместный вклад признаков в выводы модели."
   ]
  },
  {
   "cell_type": "code",
   "execution_count": 42,
   "metadata": {},
   "outputs": [
    {
     "name": "stderr",
     "output_type": "stream",
     "text": [
      "No data for colormapping provided via 'c'. Parameters 'vmin', 'vmax' will be ignored\n"
     ]
    },
    {
     "data": {
      "image/png": "[encoded data removed]",
      "text/plain": [
       "<Figure size 800x550 with 2 Axes>"
      ]
     },
     "metadata": {},
     "output_type": "display_data"
    }
   ],
   "source": [
    "import shap \n",
    "\n",
    "explainer = shap.TreeExplainer(best_clf)\n",
    "\n",
    "shap_values = explainer.shap_values(X_test)\n",
    "\n",
    "shap.summary_plot(shap_values, X_test)"
   ]
  },
  {
   "attachments": {},
   "cell_type": "markdown",
   "metadata": {},
   "source": [
    "Видим, что результаты аналогичны feature importance. Разделяющей силой обладает признак 2 и 8. Причём признаки монотонны. "
   ]
  },
  {
   "attachments": {},
   "cell_type": "markdown",
   "metadata": {},
   "source": [
    "## Задача 4\n",
    "\n",
    "Для данных из задачи 3 обучите случайный лес на 500 деревьев."
   ]
  },
  {
   "cell_type": "code",
   "execution_count": 53,
   "metadata": {},
   "outputs": [
    {
     "name": "stderr",
     "output_type": "stream",
     "text": [
      "A column-vector y was passed when a 1d array was expected. Please change the shape of y to (n_samples,), for example using ravel().\n"
     ]
    }
   ],
   "source": [
    "from sklearn.ensemble import RandomForestRegressor\n",
    "from tqdm import tqdm\n",
    "\n",
    "rf = RandomForestRegressor(n_estimators=500,max_depth=3)\n",
    "\n",
    "rf.fit(X_train, y_train)\n",
    "\n",
    "estimators = rf.estimators_"
   ]
  },
  {
   "cell_type": "markdown",
   "metadata": {},
   "source": [
    "Постройте график зависимости ошибки модели в зависимости от количества деревьев для обучающей и валидационной выборок.\n",
    "\n",
    "*Замечание.* Не нужно заново обучать лес каждый раз. Используйте у *обученной* модели поле `estimators_`, это список из объектов класса `DecisionTreeRegressor`. Обратите внимание, что это приватное поле объекта, и менять его очень плохо, за такое баллы будут снижаться."
   ]
  },
  {
   "cell_type": "code",
   "execution_count": 55,
   "metadata": {},
   "outputs": [
    {
     "name": "stderr",
     "output_type": "stream",
     "text": [
      "100%|██████████| 49/49 [00:01<00:00, 29.40it/s]\n"
     ]
    },
    {
     "data": {
      "text/plain": [
       "<matplotlib.legend.Legend at 0x23e1bcf0340>"
      ]
     },
     "execution_count": 55,
     "metadata": {},
     "output_type": "execute_result"
    },
    {
     "data": {
      "image/png": "[encoded data removed]",
      "text/plain": [
       "<Figure size 1000x1000 with 1 Axes>"
      ]
     },
     "metadata": {},
     "output_type": "display_data"
    }
   ],
   "source": [
    "MSE_train = []\n",
    "MSE_test = []\n",
    "\n",
    "for i in tqdm(range(10,500,10)):\n",
    "    rf.estimators_ = estimators[0:i]\n",
    "    MSE_train.append(mean_squared_error(rf.predict(X_train), y_train))\n",
    "    MSE_test.append(mean_squared_error(rf.predict(X_test), y_test))\n",
    "\n",
    "plt.figure(figsize=(10,10))\n",
    "plt.plot(range(10,500,10),MSE_train,label='train')\n",
    "plt.plot(range(10,500,10),MSE_test,label='test')\n",
    "plt.legend()"
   ]
  },
  {
   "cell_type": "markdown",
   "metadata": {},
   "source": [
    "Для леса с максимальным количеством деревьев визуализируйте\n",
    "важность признаков, используя поле `feature_importances_`. "
   ]
  },
  {
   "cell_type": "code",
   "execution_count": 59,
   "metadata": {},
   "outputs": [
    {
     "data": {
      "text/plain": [
       "<BarContainer object of 10 artists>"
      ]
     },
     "execution_count": 59,
     "metadata": {},
     "output_type": "execute_result"
    },
    {
     "data": {
      "image/png": "[encoded data removed]",
      "text/plain": [
       "<Figure size 640x480 with 1 Axes>"
      ]
     },
     "metadata": {},
     "output_type": "display_data"
    }
   ],
   "source": [
    "plt.bar(range(10),rf.feature_importances_)"
   ]
  },
  {
   "cell_type": "markdown",
   "metadata": {},
   "source": [
    "Сделайте выводы."
   ]
  },
  {
   "attachments": {},
   "cell_type": "markdown",
   "metadata": {},
   "source": [
    "**Вывод:** Модель также выделила прочие признаки при классификации. Таким образом достигает лучших результатов чем дерево"
   ]
  },
  {
   "cell_type": "code",
   "execution_count": 60,
   "metadata": {},
   "outputs": [
    {
     "name": "stderr",
     "output_type": "stream",
     "text": [
      "No data for colormapping provided via 'c'. Parameters 'vmin', 'vmax' will be ignored\n"
     ]
    },
    {
     "data": {
      "image/png": "[encoded data removed]",
      "text/plain": [
       "<Figure size 800x550 with 2 Axes>"
      ]
     },
     "metadata": {},
     "output_type": "display_data"
    }
   ],
   "source": [
    "import shap \n",
    "\n",
    "explainer = shap.TreeExplainer(rf)\n",
    "\n",
    "shap_values = explainer.shap_values(X_test)\n",
    "\n",
    "shap.summary_plot(shap_values, X_test)"
   ]
  },
  {
   "attachments": {},
   "cell_type": "markdown",
   "metadata": {},
   "source": [
    "Shap-плот демонстирует лучшую работу модели с распределением призанка. Появляется разделяющая сила у ранее неиспользованных признаков"
   ]
  }
 ],
 "metadata": {
  "kernelspec": {
   "display_name": "Python 3",
   "language": "python",
   "name": "python3"
  },
  "language_info": {
   "codemirror_mode": {
    "name": "ipython",
    "version": 3
   },
   "file_extension": ".py",
   "mimetype": "text/x-python",
   "name": "python",
   "nbconvert_exporter": "python",
   "pygments_lexer": "ipython3",
   "version": "3.10.8"
  },
  "orig_nbformat": 4
 },
 "nbformat": 4,
 "nbformat_minor": 2
}
